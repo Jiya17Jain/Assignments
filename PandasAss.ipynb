{
 "cells": [
  {
   "cell_type": "markdown",
   "id": "9e1152ed-765a-4d31-82c3-ebbe2d7dce6d",
   "metadata": {},
   "source": [
    "Ans.1"
   ]
  },
  {
   "cell_type": "code",
   "execution_count": 2,
   "id": "0962548a-9c7e-47fe-a7cb-8c9142b6d2cf",
   "metadata": {},
   "outputs": [
    {
     "name": "stdout",
     "output_type": "stream",
     "text": [
      "0     4\n",
      "1     8\n",
      "2    15\n",
      "3    16\n",
      "4    23\n",
      "5    42\n",
      "dtype: int64\n"
     ]
    }
   ],
   "source": [
    "import pandas as pd\n",
    "data=pd.Series([4, 8, 15, 16, 23,42])\n",
    "print(data)"
   ]
  },
  {
   "cell_type": "markdown",
   "id": "6bd32cf8-9914-447d-8939-62cf7604b9af",
   "metadata": {},
   "source": [
    "Ans.2"
   ]
  },
  {
   "cell_type": "code",
   "execution_count": 3,
   "id": "0520f3d1-96f8-40a9-af22-3c0588fafac7",
   "metadata": {},
   "outputs": [
    {
     "name": "stdout",
     "output_type": "stream",
     "text": [
      "0     67\n",
      "1     54\n",
      "2     34\n",
      "3     90\n",
      "4      7\n",
      "5     32\n",
      "6     10\n",
      "7     32\n",
      "8     22\n",
      "9    654\n",
      "dtype: int64\n"
     ]
    }
   ],
   "source": [
    "l=[67,54,34,90,7,32,10,32,22,654]\n",
    "d=pd.Series(l)\n",
    "print(d)"
   ]
  },
  {
   "cell_type": "markdown",
   "id": "c62c47fd-37d8-45a1-909b-da1a02d7496a",
   "metadata": {},
   "source": [
    "Ans.3"
   ]
  },
  {
   "cell_type": "code",
   "execution_count": 6,
   "id": "6dcd23a4-a62d-43c1-83ef-38a8e6e9c082",
   "metadata": {},
   "outputs": [
    {
     "name": "stdout",
     "output_type": "stream",
     "text": [
      "     Name  Age  Gender\n",
      "0   Alice   25  Female\n",
      "1     Bob   30    Male\n",
      "2  Claire   27  Female\n"
     ]
    }
   ],
   "source": [
    "dict1={'Name':['Alice','Bob','Claire'],\n",
    "      'Age':[25,30,27],\n",
    "      'Gender':['Female','Male','Female']}\n",
    "d1=pd.DataFrame(dict1)\n",
    "print(d1)"
   ]
  },
  {
   "cell_type": "markdown",
   "id": "0eedc510-9afc-46f4-afa3-6bc8423119c3",
   "metadata": {},
   "source": [
    "Ans.4"
   ]
  },
  {
   "cell_type": "markdown",
   "id": "6cf93232-2aaa-4a8e-ba99-74d92e77d2ec",
   "metadata": {},
   "source": [
    " For a single-column DataFrame, an index can be optional, but a Series has to have an index defined."
   ]
  },
  {
   "cell_type": "markdown",
   "id": "f910ad17-5086-46a5-8235-af3fe66a481a",
   "metadata": {},
   "source": [
    "Ans.5"
   ]
  },
  {
   "cell_type": "code",
   "execution_count": 8,
   "id": "69441195-ed69-4ee2-9014-75d00ba1bade",
   "metadata": {},
   "outputs": [
    {
     "data": {
      "text/plain": [
       "82"
      ]
     },
     "execution_count": 8,
     "metadata": {},
     "output_type": "execute_result"
    }
   ],
   "source": [
    "d1[\"Age\"].sum()"
   ]
  },
  {
   "cell_type": "markdown",
   "id": "8524518f-02e9-4d7f-b805-8f25e1a57db3",
   "metadata": {},
   "source": [
    "Ans6."
   ]
  },
  {
   "cell_type": "markdown",
   "id": "0dfc4f65-fe53-4484-aa78-8b528b592e42",
   "metadata": {},
   "source": [
    "All data sturctures of pandas are mutable ."
   ]
  },
  {
   "cell_type": "markdown",
   "id": "cd9204e2-3446-420b-a3fb-f102916f482e",
   "metadata": {},
   "source": [
    "Ans7."
   ]
  },
  {
   "cell_type": "code",
   "execution_count": null,
   "id": "e1754ac0-db3c-450c-9e33-049caf92f5e6",
   "metadata": {},
   "outputs": [],
   "source": []
  }
 ],
 "metadata": {
  "kernelspec": {
   "display_name": "Python 3 (ipykernel)",
   "language": "python",
   "name": "python3"
  },
  "language_info": {
   "codemirror_mode": {
    "name": "ipython",
    "version": 3
   },
   "file_extension": ".py",
   "mimetype": "text/x-python",
   "name": "python",
   "nbconvert_exporter": "python",
   "pygments_lexer": "ipython3",
   "version": "3.10.8"
  }
 },
 "nbformat": 4,
 "nbformat_minor": 5
}
