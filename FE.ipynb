{
 "cells": [
  {
   "cell_type": "markdown",
   "id": "ddacf47d-a254-4ab5-8fba-0905c38f9f55",
   "metadata": {},
   "source": [
    "Ans1.\n",
    "\n",
    "Encoding is a technique of converting categorical variables into numerical values so that it could be easily fitted to a machine learning model.It is useful to data scientist to train the models."
   ]
  },
  {
   "cell_type": "markdown",
   "id": "89da5c53-0050-4b99-96d8-5a4e468ee7cc",
   "metadata": {},
   "source": [
    "Ans2.\n",
    "\n",
    "Nominal encoding is , When we have a feature where variables are just names and there is no order or rank to this variable's feature. \n",
    "\n",
    "For example: City of person lives in, Gender of person,etc."
   ]
  },
  {
   "cell_type": "markdown",
   "id": "a40718cc-d033-4fed-8d48-66aa27f26386",
   "metadata": {},
   "source": [
    "Ans3.\n",
    "\n",
    "Nominal encoding is preferred over one hot encoding as in one hot encoding sparse matrix is created .\n",
    "\n",
    "For example: City of person lives in, Gender of person,etc."
   ]
  },
  {
   "cell_type": "markdown",
   "id": "ff5c3a5f-e103-4b21-8398-c3f6bd1fa6b3",
   "metadata": {},
   "source": [
    "Ans4.\n",
    "\n",
    "One hot encoding should be used in the given situation , as it is used when there is greater than or equal to 5 unique categories ."
   ]
  },
  {
   "cell_type": "markdown",
   "id": "15172c77-2cb1-4478-a8dd-37a30b2b2974",
   "metadata": {},
   "source": [
    "Ans5.\n",
    "\n",
    "2 more new columns would be created ."
   ]
  },
  {
   "cell_type": "markdown",
   "id": "6f4fc98f-6dcb-4e87-abc1-b24ca846b444",
   "metadata": {},
   "source": [
    "Ans6.\n",
    "\n",
    "We would use nominal / one hot encoding in th given situation as the order is not the concern in the given situation.\n",
    "\n"
   ]
  },
  {
   "cell_type": "code",
   "execution_count": 10,
   "id": "a0e94391-7b44-459b-ad5c-d08aba7ef78c",
   "metadata": {},
   "outputs": [],
   "source": [
    "import pandas as pd\n",
    "df=pd.DataFrame({'animals':['deer','tiger','elephant'],\n",
    "              'habitat':['Forest','Wild forest','Forest'],\n",
    "              'diet':['grass','Meat','Banana']})\n",
    "            "
   ]
  },
  {
   "cell_type": "code",
   "execution_count": 11,
   "id": "dcaa3955-9dd3-4d1e-9e61-0c3b194caf69",
   "metadata": {},
   "outputs": [
    {
     "data": {
      "text/html": [
       "<div>\n",
       "<style scoped>\n",
       "    .dataframe tbody tr th:only-of-type {\n",
       "        vertical-align: middle;\n",
       "    }\n",
       "\n",
       "    .dataframe tbody tr th {\n",
       "        vertical-align: top;\n",
       "    }\n",
       "\n",
       "    .dataframe thead th {\n",
       "        text-align: right;\n",
       "    }\n",
       "</style>\n",
       "<table border=\"1\" class=\"dataframe\">\n",
       "  <thead>\n",
       "    <tr style=\"text-align: right;\">\n",
       "      <th></th>\n",
       "      <th>animals</th>\n",
       "      <th>habitat</th>\n",
       "      <th>diet</th>\n",
       "    </tr>\n",
       "  </thead>\n",
       "  <tbody>\n",
       "    <tr>\n",
       "      <th>0</th>\n",
       "      <td>deer</td>\n",
       "      <td>Forest</td>\n",
       "      <td>grass</td>\n",
       "    </tr>\n",
       "    <tr>\n",
       "      <th>1</th>\n",
       "      <td>tiger</td>\n",
       "      <td>Wild forest</td>\n",
       "      <td>Meat</td>\n",
       "    </tr>\n",
       "    <tr>\n",
       "      <th>2</th>\n",
       "      <td>elephant</td>\n",
       "      <td>Forest</td>\n",
       "      <td>Banana</td>\n",
       "    </tr>\n",
       "  </tbody>\n",
       "</table>\n",
       "</div>"
      ],
      "text/plain": [
       "    animals      habitat    diet\n",
       "0      deer       Forest   grass\n",
       "1     tiger  Wild forest    Meat\n",
       "2  elephant       Forest  Banana"
      ]
     },
     "execution_count": 11,
     "metadata": {},
     "output_type": "execute_result"
    }
   ],
   "source": [
    "df"
   ]
  },
  {
   "cell_type": "code",
   "execution_count": 2,
   "id": "2f81c27b-f06c-4d50-8db1-b86fb6719ae7",
   "metadata": {},
   "outputs": [],
   "source": [
    "from sklearn.preprocessing import OneHotEncoder"
   ]
  },
  {
   "cell_type": "code",
   "execution_count": 4,
   "id": "1b6ca2d6-f96d-471a-b314-a141a63acac8",
   "metadata": {},
   "outputs": [],
   "source": [
    "encode=OneHotEncoder()"
   ]
  },
  {
   "cell_type": "code",
   "execution_count": 16,
   "id": "c2f5bfdb-ff1c-4632-834b-bb10b1bd42e4",
   "metadata": {},
   "outputs": [
    {
     "data": {
      "text/plain": [
       "array([[1., 0., 0.],\n",
       "       [0., 0., 1.],\n",
       "       [0., 1., 0.]])"
      ]
     },
     "execution_count": 16,
     "metadata": {},
     "output_type": "execute_result"
    }
   ],
   "source": [
    "encode.fit_transform(df[['animals']],df[['habitat']]).toarray()"
   ]
  },
  {
   "cell_type": "markdown",
   "id": "508ea66d-9864-4e55-8334-fb71eb6ac5f1",
   "metadata": {},
   "source": [
    "Ans7.\n",
    "\n"
   ]
  }
 ],
 "metadata": {
  "kernelspec": {
   "display_name": "Python 3 (ipykernel)",
   "language": "python",
   "name": "python3"
  },
  "language_info": {
   "codemirror_mode": {
    "name": "ipython",
    "version": 3
   },
   "file_extension": ".py",
   "mimetype": "text/x-python",
   "name": "python",
   "nbconvert_exporter": "python",
   "pygments_lexer": "ipython3",
   "version": "3.10.8"
  }
 },
 "nbformat": 4,
 "nbformat_minor": 5
}
