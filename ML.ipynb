{
 "cells": [
  {
   "cell_type": "markdown",
   "id": "b402a60c-7d1c-47d3-8dca-5bb2e850fed1",
   "metadata": {},
   "source": [
    "Ans1.\n",
    "\n",
    "Underfit models experience high bias—they give inaccurate results for both the training data and test set. On the other hand, overfit models experience high variance—they give accurate results for the training set but not for the test set. More model training results in less bias but variance can increase."
   ]
  },
  {
   "cell_type": "markdown",
   "id": "1bbd6e6e-72d7-4d97-81e8-a3171000f985",
   "metadata": {},
   "source": [
    "Ans2.\n",
    "\n",
    "Decreasing the complexity may help in reducing the overfitting problem.\n",
    "\n",
    "Noise in the training data can increase the possibility for overfitting. Noise reduction can help in reducing the overfitting."
   ]
  },
  {
   "cell_type": "markdown",
   "id": "08cd7484-2a96-4c80-9310-01db729cc797",
   "metadata": {},
   "source": [
    "Ans3.\n",
    "\n",
    "Underfitting in Machine Learning occurrence simply means that our model or the algorithm does not fit the data well enough.\n",
    "\n",
    "It usually happens when we have less data to build an accurate model and also when we try to build a linear model with fewer non-linear data.\n"
   ]
  },
  {
   "cell_type": "markdown",
   "id": "4ff07900-063c-4102-9b16-89f29e8304f2",
   "metadata": {},
   "source": [
    "Ans4.\n",
    "\n",
    "If the algorithm is too simple then it may be on high bias and low variance condition and thus is error-prone. If algorithms fit too complex  then it may be on high variance and low bias.\n",
    "\n",
    "“Bias and variance are complements of each other” The increase of one will result in the decrease of the other and vice versa. Hence, finding the right balance of values is known as the Bias-Variance Tradeoff. Target Function. An ideal algorithm should neither underfit nor overfit the data."
   ]
  },
  {
   "cell_type": "markdown",
   "id": "a44aef47-0598-46ae-b83d-593de8a27833",
   "metadata": {},
   "source": [
    "Ans5.\n",
    "\n",
    "We can determine whether a predictive model is underfitting or overfitting the training data by looking at the prediction error on the training data and the evaluation data. Your model is underfitting the training data when the model performs poorly on the training data."
   ]
  },
  {
   "cell_type": "markdown",
   "id": "1943add6-c947-435f-9f8c-ab277a0ffda9",
   "metadata": {},
   "source": [
    "Ans6.\n",
    "\n",
    "The term \"variance\" refers to the degree of change that may be expected in the estimation of the target function as a result of using multiple sets of training data. The disparity between the values that were predicted and the values that were actually observed is referred to as bias."
   ]
  }
 ],
 "metadata": {
  "kernelspec": {
   "display_name": "Python 3 (ipykernel)",
   "language": "python",
   "name": "python3"
  },
  "language_info": {
   "codemirror_mode": {
    "name": "ipython",
    "version": 3
   },
   "file_extension": ".py",
   "mimetype": "text/x-python",
   "name": "python",
   "nbconvert_exporter": "python",
   "pygments_lexer": "ipython3",
   "version": "3.10.8"
  }
 },
 "nbformat": 4,
 "nbformat_minor": 5
}
