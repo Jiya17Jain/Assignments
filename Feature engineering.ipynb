{
 "cells": [
  {
   "cell_type": "markdown",
   "id": "2de3e796-69a1-4904-974d-107090305946",
   "metadata": {},
   "source": [
    "Ans1.\n",
    "\n",
    "MinMax Scaler shrinks the data within the given range, usually of 0 to 1. It transforms data by scaling features to a given range. \n",
    "\n",
    "eg.- a series of album ratings scaled from 70 to 150 could be min-maxed so that every rating falls on or between 0 and 1, and the proportional distance between data points is retained"
   ]
  },
  {
   "cell_type": "markdown",
   "id": "5299bd95-0408-47bd-9f9f-162f52a71f35",
   "metadata": {},
   "source": [
    "Ans2.\n",
    "\n",
    "The Unit Vector Transformer considers the whole vector to be of unit length. In min-max normalization, where we scale the values to a range of 0 to 1, and in  unit vector normalization, where we scale the values to have a length of 1."
   ]
  },
  {
   "cell_type": "markdown",
   "id": "2336837b-7237-4c9e-ac6b-4ae8cdb51f68",
   "metadata": {},
   "source": [
    "Ans3.\n",
    "\n",
    "Principal Component Analysis (PCA) is a technique used to reduce the dimensionality of a dataset while preserving maximum variation. It transforms the original variables into a new set of linearly uncorrelated variables called principal components."
   ]
  },
  {
   "cell_type": "markdown",
   "id": "deee44ac-69e2-4ecf-86c7-e15c7156d1b5",
   "metadata": {},
   "source": [
    "Ans4.\n",
    "\n",
    "Principal component analysis (PCA) is an unsupervised linear transformation technique which is primarily used for feature extraction and dimensionality reduction."
   ]
  },
  {
   "cell_type": "markdown",
   "id": "0f247e34-ef9d-40a8-9a41-8190ada72a5a",
   "metadata": {},
   "source": [
    "Ans5.\n",
    "\n",
    "The features  price, rating, and delivery time can be converted intoa range of (0-1) using MinMax scaling so that the calclations in the model becomes easier.\n",
    "\n",
    "It can be achieved by importing MinMax Scaler from sklearn. preprocessing ."
   ]
  },
  {
   "cell_type": "markdown",
   "id": "b692f6cc-ffb3-4c30-92c4-e1288994b7f6",
   "metadata": {},
   "source": [
    "Ans6.\n",
    "\n",
    "PCA is used to select the most important features by reducing them without data loss."
   ]
  },
  {
   "cell_type": "markdown",
   "id": "9eadfc3d-8cbe-4a7e-8351-4fd822b05b2e",
   "metadata": {},
   "source": [
    "Ans7."
   ]
  },
  {
   "cell_type": "code",
   "execution_count": 3,
   "id": "3810bb1e-20de-4026-9c1b-c44de1121cda",
   "metadata": {},
   "outputs": [],
   "source": [
    "from sklearn.preprocessing import MinMaxScaler"
   ]
  },
  {
   "cell_type": "code",
   "execution_count": 7,
   "id": "03bc1663-f85a-40f2-9423-b7ca54b5377f",
   "metadata": {},
   "outputs": [
    {
     "data": {
      "text/plain": [
       "array([[0., 0., 0., 0., 0.]])"
      ]
     },
     "execution_count": 7,
     "metadata": {},
     "output_type": "execute_result"
    }
   ],
   "source": [
    "min_max=MinMaxScaler()\n",
    "min_max.fit_transform([[1, 5, 10, 15, 20]])\n"
   ]
  },
  {
   "cell_type": "markdown",
   "id": "c7b8fad0-7b77-4646-8860-e82db10d1219",
   "metadata": {},
   "source": [
    "Ans8."
   ]
  },
  {
   "cell_type": "code",
   "execution_count": null,
   "id": "f78c2a8f-2b12-4eb3-bbcc-65e4bac35a43",
   "metadata": {},
   "outputs": [],
   "source": []
  }
 ],
 "metadata": {
  "kernelspec": {
   "display_name": "Python 3 (ipykernel)",
   "language": "python",
   "name": "python3"
  },
  "language_info": {
   "codemirror_mode": {
    "name": "ipython",
    "version": 3
   },
   "file_extension": ".py",
   "mimetype": "text/x-python",
   "name": "python",
   "nbconvert_exporter": "python",
   "pygments_lexer": "ipython3",
   "version": "3.10.8"
  }
 },
 "nbformat": 4,
 "nbformat_minor": 5
}
