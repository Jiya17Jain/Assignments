{
 "cells": [
  {
   "cell_type": "markdown",
   "id": "ddf31911-7b3c-4cda-960a-794f84a4ce03",
   "metadata": {},
   "source": [
    "Using database one can store data.\n",
    "in mysql stuructured data is stored while in nosql unstructured data is stored."
   ]
  },
  {
   "cell_type": "markdown",
   "id": "7127343c-54a1-4cd3-8f92-fcc1c3926545",
   "metadata": {},
   "source": [
    "DDL is data definition language. used to define the definition of a database.\n",
    "create is used to create a table , alter is used to alter some kind of things in a database, while drop is used to delete a table ."
   ]
  },
  {
   "cell_type": "markdown",
   "id": "0e0b9e1e-ea4d-4954-847e-317abbee4d8a",
   "metadata": {},
   "source": [
    "DML is data manipulation language . insert is used to insert values in a table . updatae is udes to update a table and delete is used to delete a table in a database."
   ]
  },
  {
   "cell_type": "markdown",
   "id": "f4820e46-fb35-4772-885e-ee0edee67e1f",
   "metadata": {},
   "source": [
    "DQL is data query language . select is used to get the data from a table ."
   ]
  },
  {
   "cell_type": "markdown",
   "id": "16672203-1527-439a-b4af-775d1fc093bf",
   "metadata": {},
   "source": [
    "Primary key uniquely defines the rows of tables . Foreinn key is a key whose attributes can be derived from from the primary key of another table."
   ]
  },
  {
   "cell_type": "markdown",
   "id": "339961c7-2410-4ce5-a892-9f64adbb76ac",
   "metadata": {},
   "source": [
    "import mysql.connector as sq\n",
    "con=sq.connect(host='local host',password='password')\n",
    "cur=con.cursor()\n",
    "\n",
    "cursor is used as an instance to point object.\n",
    "execute method is used to run a query in python."
   ]
  },
  {
   "cell_type": "code",
   "execution_count": null,
   "id": "67cd510d-364f-4b85-b112-d01f428382bf",
   "metadata": {},
   "outputs": [],
   "source": []
  }
 ],
 "metadata": {
  "kernelspec": {
   "display_name": "Python 3 (ipykernel)",
   "language": "python",
   "name": "python3"
  },
  "language_info": {
   "codemirror_mode": {
    "name": "ipython",
    "version": 3
   },
   "file_extension": ".py",
   "mimetype": "text/x-python",
   "name": "python",
   "nbconvert_exporter": "python",
   "pygments_lexer": "ipython3",
   "version": "3.10.8"
  }
 },
 "nbformat": 4,
 "nbformat_minor": 5
}
