{
 "cells": [
  {
   "cell_type": "markdown",
   "id": "c21bfae8-bbdf-4e90-b6dc-41678b4f0fb8",
   "metadata": {},
   "source": [
    "Ans1.\n",
    "\n",
    "Ridge regression works with an enhanced cost function when compared to the least squares cost function. Instead of the simple sum of squares, Ridge regression introduces an additional 'regularization' parameter that penalizes the size of the weights"
   ]
  },
  {
   "cell_type": "markdown",
   "id": "4fe0a125-f702-4772-9f14-fc2b5aae6387",
   "metadata": {},
   "source": [
    "Ans2.\n",
    "\n",
    "The assumptions of ridge regression are : linearity, constant variance, and independence."
   ]
  },
  {
   "cell_type": "markdown",
   "id": "8d19556b-52da-46ad-84d7-8fd5d5ff3438",
   "metadata": {},
   "source": [
    "Ans3.\n",
    "\n",
    "We iterate certain values onto the lambda and evaluate the model with a measurement such as 'Mean Square Error (MSE)'. So, the lambda value that minimizes MSE should be selected as the final model."
   ]
  },
  {
   "cell_type": "markdown",
   "id": "562c6a3a-b233-43cd-a334-61df573f6353",
   "metadata": {},
   "source": [
    "Ans4.\n",
    "\n",
    "Ridge regression can also help us in feature selection to find out the important features required for modelling purposes."
   ]
  },
  {
   "cell_type": "raw",
   "id": "8a1acded-2695-4910-85ab-585cb5fb1468",
   "metadata": {},
   "source": [
    "Ans5.\n",
    "\n",
    "Ridge Regression is a technique for analyzing multiple regression data that suffer from multicollinearity, The particular kind used by ridge regression is known as L2 regularization . In ridge regression, the penalty is the sum of the squares of the coefficients.\n",
    "\n",
    "\n"
   ]
  },
  {
   "cell_type": "markdown",
   "id": "4a0823d9-94e4-4c17-8823-7ceb5584ad1f",
   "metadata": {},
   "source": [
    "Ans6.\n",
    "\n",
    "Yes , Ridge Regession can handle both categorical and continous independent variables ."
   ]
  },
  {
   "cell_type": "markdown",
   "id": "bf3e0d81-8c23-42ef-9bee-b98a66fb988e",
   "metadata": {},
   "source": [
    "Ans7.\n",
    "\n",
    "The ridge coefficients are a reduced factor of the simple linear regression coefficients and thus never attain zero values but very small values. \n"
   ]
  },
  {
   "cell_type": "markdown",
   "id": "823753e1-6e8f-46d8-8b80-b798b522f408",
   "metadata": {},
   "source": [
    "Ans8.\n",
    "\n"
   ]
  }
 ],
 "metadata": {
  "kernelspec": {
   "display_name": "Python 3 (ipykernel)",
   "language": "python",
   "name": "python3"
  },
  "language_info": {
   "codemirror_mode": {
    "name": "ipython",
    "version": 3
   },
   "file_extension": ".py",
   "mimetype": "text/x-python",
   "name": "python",
   "nbconvert_exporter": "python",
   "pygments_lexer": "ipython3",
   "version": "3.10.8"
  }
 },
 "nbformat": 4,
 "nbformat_minor": 5
}
