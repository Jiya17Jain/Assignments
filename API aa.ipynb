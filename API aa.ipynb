{
 "cells": [
  {
   "cell_type": "markdown",
   "id": "bfa4a40f-205d-4bbf-b444-dab84ef26dcb",
   "metadata": {},
   "source": [
    "Ans.1 \n",
    "API is Application programming interface . \n",
    "code in one language can be accessed throuh another language ."
   ]
  },
  {
   "cell_type": "markdown",
   "id": "15d826d1-8fd2-4514-b23c-a6e53a2a6049",
   "metadata": {},
   "source": [
    "Ans. 2\n",
    "Addvantage is it increases the business agility . \n",
    "Disadvantage is it is complex to use."
   ]
  },
  {
   "cell_type": "markdown",
   "id": "790d16cd-4a36-4de0-b2dc-36770a105302",
   "metadata": {},
   "source": [
    "Ans.3 \n",
    "Web API uses HTTP protocol whle API uses TCP/IP pROTOCOL."
   ]
  },
  {
   "cell_type": "markdown",
   "id": "d78df444-b400-471d-aedd-4e3d9da516cc",
   "metadata": {},
   "source": [
    "Ans4.\n",
    "REST architecture uses the HTTP .REST includes POST , GET , DELETE , PUT .\n",
    "SOAP archite"
   ]
  }
 ],
 "metadata": {
  "kernelspec": {
   "display_name": "Python 3 (ipykernel)",
   "language": "python",
   "name": "python3"
  },
  "language_info": {
   "codemirror_mode": {
    "name": "ipython",
    "version": 3
   },
   "file_extension": ".py",
   "mimetype": "text/x-python",
   "name": "python",
   "nbconvert_exporter": "python",
   "pygments_lexer": "ipython3",
   "version": "3.10.8"
  }
 },
 "nbformat": 4,
 "nbformat_minor": 5
}
