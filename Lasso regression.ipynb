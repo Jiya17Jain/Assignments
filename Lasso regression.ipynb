{
 "cells": [
  {
   "cell_type": "markdown",
   "id": "99c2436b-1bd8-4a09-855b-ab03a77302fc",
   "metadata": {},
   "source": [
    "Ans1.\n",
    "\n",
    "Lasso Regression  is a regularization technique used in feature selection using a Shrinkage method also referred to as the penalized regression method. Lasso is short for Least Absolute Shrinkage and Selection Operator, which is used both for regularization and model selection."
   ]
  },
  {
   "cell_type": "markdown",
   "id": "f8e30474-ccef-422f-b41b-13b34331d404",
   "metadata": {},
   "source": [
    "Ans2.\n",
    "\n",
    "The main advantage of a LASSO regression model is that it has the ability to set the coefficients for features it does not consider interesting to zero. This means that the model does some automatic feature selection to decide which features should and should not be included on its own."
   ]
  },
  {
   "cell_type": "markdown",
   "id": "5b00e456-9437-492b-a758-0231de3412df",
   "metadata": {},
   "source": [
    "Ans3.\n",
    "\n",
    "In Lasso regression, some of the coefficients will be set to zero, which means that the corresponding feature has been excluded from the model. The non-zero coefficients represent the features that are most important for predicting the target variable."
   ]
  },
  {
   "cell_type": "markdown",
   "id": "2c17b260-3aca-4d93-a0de-46e96784e8b2",
   "metadata": {},
   "source": [
    "Ans4.\n",
    "\n",
    "A tuning parameter (λ), sometimes called a penalty parameter, controls the strength of the penalty term in ridge regression and lasso regression. It is basically the amount of shrinkage, where data values are shrunk towards a central point, like the mean."
   ]
  },
  {
   "cell_type": "markdown",
   "id": "e4276c94-f577-4d6c-bddc-280214dbd1be",
   "metadata": {},
   "source": [
    "Ans5.\n",
    "\n",
    "It's not fast, but it will build nonlinear models and perform selection. "
   ]
  },
  {
   "cell_type": "markdown",
   "id": "9d74f548-2ef4-4a47-8f55-e3f53f4dd662",
   "metadata": {},
   "source": [
    "Ans6.\n",
    "\n",
    "The difference between ridge and lasso regression is that it tends to make coefficients to absolute zero as compared to Ridge which never sets the value of coefficient to absolute zero."
   ]
  },
  {
   "cell_type": "markdown",
   "id": "f5c9eded-a6ca-479b-b2ed-2d1e37ba9a0b",
   "metadata": {},
   "source": [
    "Ans7.\n",
    "\n",
    "Lasso regression is a linear regression technique with L1 prior as a regularize. The idea is to reduce the multicollinearity by regularization by reducing the coefficients of the feature that are multicollinear."
   ]
  },
  {
   "cell_type": "markdown",
   "id": "018b4fdb-0ff6-44f2-a230-7bc77c2575fd",
   "metadata": {},
   "source": [
    "Ans8.\n",
    "\n",
    "When choosing a lambda value, the goal is to strike the right balance between simplicity and training-data fit: If your lambda value is too high, your model will be simple, but you run the risk of underfitting your data. Your model won't learn enough about the training data to make useful predictions."
   ]
  },
  {
   "cell_type": "code",
   "execution_count": null,
   "id": "c3aeab85-56f9-409f-8562-fe3c27c0fc44",
   "metadata": {},
   "outputs": [],
   "source": []
  }
 ],
 "metadata": {
  "kernelspec": {
   "display_name": "Python 3 (ipykernel)",
   "language": "python",
   "name": "python3"
  },
  "language_info": {
   "codemirror_mode": {
    "name": "ipython",
    "version": 3
   },
   "file_extension": ".py",
   "mimetype": "text/x-python",
   "name": "python",
   "nbconvert_exporter": "python",
   "pygments_lexer": "ipython3",
   "version": "3.10.8"
  }
 },
 "nbformat": 4,
 "nbformat_minor": 5
}
