{
 "cells": [
  {
   "cell_type": "markdown",
   "id": "7ae2ef77-ff85-4fb8-ac58-9e9b4a26fcff",
   "metadata": {},
   "source": [
    "Ans.1"
   ]
  },
  {
   "cell_type": "code",
   "execution_count": 2,
   "id": "30ef7b11-67b0-43fe-bd90-e8d5ce14d547",
   "metadata": {},
   "outputs": [
    {
     "name": "stdout",
     "output_type": "stream",
     "text": [
      "<class 'list'>\n",
      "<class 'numpy.ndarray'>\n"
     ]
    }
   ],
   "source": [
    "import numpy as np\n",
    "list_ = [ '1','2','3','4','5']\n",
    "array_list = np.array(object = list_)\n",
    "print(type(list_))\n",
    "print(type(array_list))"
   ]
  },
  {
   "cell_type": "markdown",
   "id": "72be7f2d-75d9-47c5-a547-6cff1c90794e",
   "metadata": {},
   "source": [
    "Ans2."
   ]
  },
  {
   "cell_type": "code",
   "execution_count": 5,
   "id": "d9d4b352-7744-47fb-b00f-4ede7a097f72",
   "metadata": {},
   "outputs": [
    {
     "name": "stdout",
     "output_type": "stream",
     "text": [
      "<class 'str'>\n",
      "<class 'str'>\n",
      "<class 'str'>\n",
      "<class 'str'>\n",
      "<class 'str'>\n"
     ]
    }
   ],
   "source": [
    "for i in list_:\n",
    "    print(type(i))"
   ]
  },
  {
   "cell_type": "code",
   "execution_count": 6,
   "id": "c79cdd74-e5da-4f4c-8a49-6aef1a1c8ad1",
   "metadata": {},
   "outputs": [
    {
     "name": "stdout",
     "output_type": "stream",
     "text": [
      "<class 'numpy.str_'>\n",
      "<class 'numpy.str_'>\n",
      "<class 'numpy.str_'>\n",
      "<class 'numpy.str_'>\n",
      "<class 'numpy.str_'>\n"
     ]
    }
   ],
   "source": [
    "for j in array_list:\n",
    "     print(type(j))"
   ]
  },
  {
   "cell_type": "markdown",
   "id": "4f3a9f71-9dd7-4165-8f7d-442b3652b4a6",
   "metadata": {},
   "source": [
    "Ans4."
   ]
  },
  {
   "cell_type": "code",
   "execution_count": 2,
   "id": "32f3f377-6acc-4cc0-8874-339da5883496",
   "metadata": {},
   "outputs": [],
   "source": [
    "import numpy as np"
   ]
  },
  {
   "cell_type": "code",
   "execution_count": 3,
   "id": "a7072e88-7f8a-4e6e-8b11-133c4b096052",
   "metadata": {},
   "outputs": [],
   "source": [
    "list_ = [ '1','2','3','4','5']\n",
    "array_list = np.array(object = list_)"
   ]
  },
  {
   "cell_type": "code",
   "execution_count": 4,
   "id": "a2ae0947-116e-4e39-b392-946491232c6e",
   "metadata": {},
   "outputs": [
    {
     "data": {
      "text/plain": [
       "(5,)"
      ]
     },
     "execution_count": 4,
     "metadata": {},
     "output_type": "execute_result"
    }
   ],
   "source": [
    "array_list.shape"
   ]
  },
  {
   "cell_type": "code",
   "execution_count": 5,
   "id": "d5ff87a7-219a-4b7a-8ace-9e8f42be7cfa",
   "metadata": {},
   "outputs": [
    {
     "data": {
      "text/plain": [
       "5"
      ]
     },
     "execution_count": 5,
     "metadata": {},
     "output_type": "execute_result"
    }
   ],
   "source": [
    "array_list.size"
   ]
  },
  {
   "cell_type": "markdown",
   "id": "3fd747bb-85bb-47de-aebb-1e2118a2ebf8",
   "metadata": {},
   "source": [
    "Ans5."
   ]
  },
  {
   "cell_type": "code",
   "execution_count": 6,
   "id": "32a289c6-6a26-4064-bd97-2b24016980cc",
   "metadata": {},
   "outputs": [
    {
     "data": {
      "text/plain": [
       "array([[0., 0., 0., 0.],\n",
       "       [0., 0., 0., 0.],\n",
       "       [0., 0., 0., 0.]])"
      ]
     },
     "execution_count": 6,
     "metadata": {},
     "output_type": "execute_result"
    }
   ],
   "source": [
    "np.zeros((3,4))"
   ]
  },
  {
   "cell_type": "code",
   "execution_count": null,
   "id": "a7c5b4a5-8a4f-4d2c-becf-6b0904a457dc",
   "metadata": {},
   "outputs": [],
   "source": []
  }
 ],
 "metadata": {
  "kernelspec": {
   "display_name": "Python 3 (ipykernel)",
   "language": "python",
   "name": "python3"
  },
  "language_info": {
   "codemirror_mode": {
    "name": "ipython",
    "version": 3
   },
   "file_extension": ".py",
   "mimetype": "text/x-python",
   "name": "python",
   "nbconvert_exporter": "python",
   "pygments_lexer": "ipython3",
   "version": "3.10.8"
  }
 },
 "nbformat": 4,
 "nbformat_minor": 5
}
