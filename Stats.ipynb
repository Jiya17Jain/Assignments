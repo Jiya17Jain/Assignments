{
 "cells": [
  {
   "cell_type": "markdown",
   "id": "d672bb87-9a7c-422b-9129-75ad441c973a",
   "metadata": {},
   "source": [
    "Ans1."
   ]
  },
  {
   "cell_type": "markdown",
   "id": "1e291371-270a-46c7-ae34-58189bdca1d6",
   "metadata": {},
   "source": [
    "The tree measure of centeral tendencies are mean , median and mode."
   ]
  },
  {
   "cell_type": "markdown",
   "id": "68a2f7a9-1b25-4881-8421-9d72806c74da",
   "metadata": {},
   "source": [
    "Ans2."
   ]
  },
  {
   "cell_type": "markdown",
   "id": "e3c4fd4e-bb17-4218-a14b-5d80dbb041fe",
   "metadata": {},
   "source": [
    "The mean is the average where the sum of all the numbers is divided by the total number of numbers\n",
    "\n",
    "whereas the median is the middle value in the list of given numbers numerically ordered from smallest to biggest\n",
    "\n",
    "mode is the value of the number which occurs most often in the list."
   ]
  },
  {
   "cell_type": "markdown",
   "id": "9f2106c8-f062-4e6b-bbcf-39fd57752495",
   "metadata": {},
   "source": [
    "Ans3."
   ]
  },
  {
   "cell_type": "code",
   "execution_count": 1,
   "id": "6b459128-3c32-46bf-8860-eabb262ea934",
   "metadata": {},
   "outputs": [
    {
     "data": {
      "text/plain": [
       "177.01875"
      ]
     },
     "execution_count": 1,
     "metadata": {},
     "output_type": "execute_result"
    }
   ],
   "source": [
    "lss= [178,177,176,177,178.2,178,175,179,180,175,178.9,176.2,177,172.5,178,176.5] \n",
    "import numpy as np\n",
    "np.mean(lss)"
   ]
  },
  {
   "cell_type": "markdown",
   "id": "821cdfdc-2dce-4507-a0f5-94f322049001",
   "metadata": {},
   "source": [
    "np.median(lss)"
   ]
  },
  {
   "cell_type": "code",
   "execution_count": 4,
   "id": "11a1fe27-923b-4aa0-9946-fc0dca5ce8aa",
   "metadata": {},
   "outputs": [
    {
     "name": "stderr",
     "output_type": "stream",
     "text": [
      "/tmp/ipykernel_490/188646563.py:2: FutureWarning: Unlike other reduction functions (e.g. `skew`, `kurtosis`), the default behavior of `mode` typically preserves the axis it acts along. In SciPy 1.11.0, this behavior will change: the default value of `keepdims` will become False, the `axis` over which the statistic is taken will be eliminated, and the value None will no longer be accepted. Set `keepdims` to True or False to avoid this warning.\n",
      "  stats.mode(lss)\n"
     ]
    },
    {
     "data": {
      "text/plain": [
       "ModeResult(mode=array([177.]), count=array([3]))"
      ]
     },
     "execution_count": 4,
     "metadata": {},
     "output_type": "execute_result"
    }
   ],
   "source": [
    "from scipy import stats\n",
    "stats.mode(lss)"
   ]
  },
  {
   "cell_type": "markdown",
   "id": "4cb11cdd-4bc1-4195-8006-142cdff53733",
   "metadata": {},
   "source": [
    "Ans4."
   ]
  },
  {
   "cell_type": "code",
   "execution_count": 5,
   "id": "1f940b1f-2c5a-4c82-b229-9844a9d6aabf",
   "metadata": {},
   "outputs": [
    {
     "data": {
      "text/plain": [
       "1.7885814036548633"
      ]
     },
     "execution_count": 5,
     "metadata": {},
     "output_type": "execute_result"
    }
   ],
   "source": [
    "l=[178,177,176,177,178.2,178,175,179,180,175,178.9,176.2,177,172.5,178,176.5] \n",
    "np.std(l)"
   ]
  },
  {
   "cell_type": "markdown",
   "id": "dae3532c-d7b6-45ff-8707-663eb2bf0bc9",
   "metadata": {},
   "source": [
    "Ans5."
   ]
  },
  {
   "cell_type": "markdown",
   "id": "46794e9a-83b1-4f84-b144-d58996639ae2",
   "metadata": {},
   "source": [
    "Range: defined as a single number representing the spread of the data.\n",
    "\n",
    "Standard deviation: defined as a number representing how far from the average each score is.\n",
    "\n",
    "Variance: defined as a number indicating how spread out the data is."
   ]
  },
  {
   "cell_type": "markdown",
   "id": "530620cc-87d9-4315-8075-c4ed2b218b47",
   "metadata": {},
   "source": [
    "Ans6."
   ]
  },
  {
   "cell_type": "markdown",
   "id": "8a13454b-1715-415e-ae68-a41e7f082bd4",
   "metadata": {},
   "source": [
    "A Venn diagram uses overlapping circles or other shapes to illustrate the logical relationships between two or more sets of items. "
   ]
  },
  {
   "cell_type": "markdown",
   "id": "581c6b53-561f-437b-b91b-34abfe500cab",
   "metadata": {},
   "source": [
    "Ans7."
   ]
  },
  {
   "cell_type": "markdown",
   "id": "f3660143-0372-410a-b283-87858c9e8fd5",
   "metadata": {},
   "source": [
    "A = (2,3,4,5,6,7) \n",
    "\n",
    "B = (0,2,6,8,10)\n",
    "\n",
    "AUB=(0,2,3,4,5,6,7,8,10)\n",
    "\n"
   ]
  },
  {
   "cell_type": "markdown",
   "id": "d612138f-3574-4852-980e-c58e90cbc837",
   "metadata": {},
   "source": [
    "Ans8."
   ]
  },
  {
   "cell_type": "markdown",
   "id": "c45d6f3e-4268-4a8f-b624-f7592c5f3bbe",
   "metadata": {},
   "source": [
    "Skewness is a measurement of the distortion of symmetrical distribution or asymmetry in a data set. "
   ]
  },
  {
   "cell_type": "markdown",
   "id": "c4d25535-7941-412c-b7ee-6aaee55f57ec",
   "metadata": {},
   "source": [
    "Ans9."
   ]
  },
  {
   "cell_type": "markdown",
   "id": "92b118df-4786-4810-b099-85fe96b0a293",
   "metadata": {},
   "source": [
    " If a data is right skewed then median will be towards left of mean."
   ]
  },
  {
   "cell_type": "markdown",
   "id": "9c0670d2-6f59-45a9-8a90-4f7df60a0913",
   "metadata": {},
   "source": [
    "Ans10."
   ]
  },
  {
   "cell_type": "markdown",
   "id": "249f218d-99c9-4717-a5b8-7ca8032e45fa",
   "metadata": {},
   "source": [
    "Covariance indicates the direction of the linear relationship between variables. Correlation measures both the strength and direction of the linear relationship between two variables."
   ]
  },
  {
   "cell_type": "markdown",
   "id": "e1eb9162-ac99-4ed8-8ca5-da1f0686459b",
   "metadata": {},
   "source": [
    "Ans11."
   ]
  },
  {
   "cell_type": "code",
   "execution_count": 1,
   "id": "47e74b65-5acd-4c1e-b004-269cdaf884bb",
   "metadata": {},
   "outputs": [
    {
     "data": {
      "text/html": [
       "<div>\n",
       "<style scoped>\n",
       "    .dataframe tbody tr th:only-of-type {\n",
       "        vertical-align: middle;\n",
       "    }\n",
       "\n",
       "    .dataframe tbody tr th {\n",
       "        vertical-align: top;\n",
       "    }\n",
       "\n",
       "    .dataframe thead th {\n",
       "        text-align: right;\n",
       "    }\n",
       "</style>\n",
       "<table border=\"1\" class=\"dataframe\">\n",
       "  <thead>\n",
       "    <tr style=\"text-align: right;\">\n",
       "      <th></th>\n",
       "      <th>total_bill</th>\n",
       "      <th>tip</th>\n",
       "      <th>sex</th>\n",
       "      <th>smoker</th>\n",
       "      <th>day</th>\n",
       "      <th>time</th>\n",
       "      <th>size</th>\n",
       "    </tr>\n",
       "  </thead>\n",
       "  <tbody>\n",
       "    <tr>\n",
       "      <th>0</th>\n",
       "      <td>16.99</td>\n",
       "      <td>1.01</td>\n",
       "      <td>Female</td>\n",
       "      <td>No</td>\n",
       "      <td>Sun</td>\n",
       "      <td>Dinner</td>\n",
       "      <td>2</td>\n",
       "    </tr>\n",
       "    <tr>\n",
       "      <th>1</th>\n",
       "      <td>10.34</td>\n",
       "      <td>1.66</td>\n",
       "      <td>Male</td>\n",
       "      <td>No</td>\n",
       "      <td>Sun</td>\n",
       "      <td>Dinner</td>\n",
       "      <td>3</td>\n",
       "    </tr>\n",
       "    <tr>\n",
       "      <th>2</th>\n",
       "      <td>21.01</td>\n",
       "      <td>3.50</td>\n",
       "      <td>Male</td>\n",
       "      <td>No</td>\n",
       "      <td>Sun</td>\n",
       "      <td>Dinner</td>\n",
       "      <td>3</td>\n",
       "    </tr>\n",
       "    <tr>\n",
       "      <th>3</th>\n",
       "      <td>23.68</td>\n",
       "      <td>3.31</td>\n",
       "      <td>Male</td>\n",
       "      <td>No</td>\n",
       "      <td>Sun</td>\n",
       "      <td>Dinner</td>\n",
       "      <td>2</td>\n",
       "    </tr>\n",
       "    <tr>\n",
       "      <th>4</th>\n",
       "      <td>24.59</td>\n",
       "      <td>3.61</td>\n",
       "      <td>Female</td>\n",
       "      <td>No</td>\n",
       "      <td>Sun</td>\n",
       "      <td>Dinner</td>\n",
       "      <td>4</td>\n",
       "    </tr>\n",
       "  </tbody>\n",
       "</table>\n",
       "</div>"
      ],
      "text/plain": [
       "   total_bill   tip     sex smoker  day    time  size\n",
       "0       16.99  1.01  Female     No  Sun  Dinner     2\n",
       "1       10.34  1.66    Male     No  Sun  Dinner     3\n",
       "2       21.01  3.50    Male     No  Sun  Dinner     3\n",
       "3       23.68  3.31    Male     No  Sun  Dinner     2\n",
       "4       24.59  3.61  Female     No  Sun  Dinner     4"
      ]
     },
     "execution_count": 1,
     "metadata": {},
     "output_type": "execute_result"
    }
   ],
   "source": [
    "import seaborn as sns\n",
    "df=sns.load_dataset('tips')\n",
    "df.head()"
   ]
  },
  {
   "cell_type": "code",
   "execution_count": 6,
   "id": "975fc687-ceb9-4fe6-8a71-c549a45b8f5d",
   "metadata": {},
   "outputs": [
    {
     "data": {
      "text/plain": [
       "2.99827868852459"
      ]
     },
     "execution_count": 6,
     "metadata": {},
     "output_type": "execute_result"
    }
   ],
   "source": [
    "import numpy as np\n",
    "np.mean(df['tip'])"
   ]
  },
  {
   "cell_type": "markdown",
   "id": "aac1af12-9d16-4d79-bdd5-4fd609caff86",
   "metadata": {},
   "source": [
    "Ans12."
   ]
  },
  {
   "cell_type": "markdown",
   "id": "47943091-ce8d-4514-8595-896dd485da6c",
   "metadata": {},
   "source": [
    "For a normal distribution data ,  relationship between its measure of central tendency is as follow- mean=median=mode."
   ]
  },
  {
   "cell_type": "markdown",
   "id": "5db7bfed-ba90-4276-837c-3f2d5d762b93",
   "metadata": {},
   "source": [
    "Ans13."
   ]
  },
  {
   "cell_type": "markdown",
   "id": "65157e17-ffba-463f-8ef4-4e67ae6cc689",
   "metadata": {},
   "source": [
    "Covariance indicates the direction of the linear relationship between variables.\n",
    "\n",
    "Correlation measures both the strength and direction of the linear relationship between two variables."
   ]
  },
  {
   "cell_type": "markdown",
   "id": "002caa22-b93d-45ce-a013-5ea1a78da587",
   "metadata": {},
   "source": [
    "Ans14."
   ]
  },
  {
   "cell_type": "markdown",
   "id": "4b104648-0003-4152-880f-af0f90285ca6",
   "metadata": {},
   "source": [
    "Outliers Measures of central tendency and dispersion can give misleading impressions of a data set if the set contains one or more outliers. "
   ]
  },
  {
   "cell_type": "markdown",
   "id": "d86d7789-2ecc-485f-bfbc-ca23bc4691d9",
   "metadata": {},
   "source": [
    "For eg.\n",
    "\n",
    "\n"
   ]
  },
  {
   "cell_type": "code",
   "execution_count": 4,
   "id": "e05b5c07-70ef-4567-89f5-2ddc4c804f9f",
   "metadata": {},
   "outputs": [
    {
     "data": {
      "text/plain": [
       "47.2"
      ]
     },
     "execution_count": 4,
     "metadata": {},
     "output_type": "execute_result"
    }
   ],
   "source": [
    "age=[23,34,25,54,100]\n",
    "import numpy as np\n",
    "np.mean(age)"
   ]
  },
  {
   "cell_type": "code",
   "execution_count": 3,
   "id": "b9afcd52-0054-478e-90e0-29e056e33807",
   "metadata": {},
   "outputs": [
    {
     "data": {
      "text/plain": [
       "34.0"
      ]
     },
     "execution_count": 3,
     "metadata": {},
     "output_type": "execute_result"
    }
   ],
   "source": [
    "import numpy as np\n",
    "age=[23,34,25,54,100]\n",
    "np.median(age)"
   ]
  },
  {
   "cell_type": "code",
   "execution_count": null,
   "id": "d9ca4ce1-1cfc-40a1-81af-46339ec4f868",
   "metadata": {},
   "outputs": [],
   "source": []
  }
 ],
 "metadata": {
  "kernelspec": {
   "display_name": "Python 3 (ipykernel)",
   "language": "python",
   "name": "python3"
  },
  "language_info": {
   "codemirror_mode": {
    "name": "ipython",
    "version": 3
   },
   "file_extension": ".py",
   "mimetype": "text/x-python",
   "name": "python",
   "nbconvert_exporter": "python",
   "pygments_lexer": "ipython3",
   "version": "3.10.8"
  }
 },
 "nbformat": 4,
 "nbformat_minor": 5
}
