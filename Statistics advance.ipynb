{
 "cells": [
  {
   "cell_type": "markdown",
   "id": "6884fab0-5ee8-4198-b1d5-7ea19132aff5",
   "metadata": {},
   "source": [
    "Ans1."
   ]
  },
  {
   "cell_type": "markdown",
   "id": "d258a2ef-293a-44af-a5fe-1bfbffd3482f",
   "metadata": {},
   "source": [
    "A function is said to be a probability density function if it represents a continuous probability distribution."
   ]
  },
  {
   "cell_type": "markdown",
   "id": "a3e3b411-a382-4e71-866c-b739afe1775e",
   "metadata": {},
   "source": [
    "Ans2."
   ]
  },
  {
   "cell_type": "markdown",
   "id": "400d7a8a-b38e-47a6-9d4d-0220f2328125",
   "metadata": {},
   "source": [
    "Common probability distributions include \n",
    "\n",
    "Binomial distribution,\n",
    "\n",
    "Poisson distribution,\n",
    "\n",
    "uniform distribution,\n",
    "\n",
    "Normal distribution\n",
    "\n",
    "Bernoulli Distribution"
   ]
  },
  {
   "cell_type": "markdown",
   "id": "87462713-3bf5-4dbd-90a4-a2733b7bba54",
   "metadata": {},
   "source": [
    "Ans3."
   ]
  },
  {
   "cell_type": "code",
   "execution_count": 1,
   "id": "688997d0-d5f3-4c87-82b7-9a8da34256fc",
   "metadata": {},
   "outputs": [
    {
     "name": "stdout",
     "output_type": "stream",
     "text": [
      "0.0804410163156249\n"
     ]
    }
   ],
   "source": [
    "from scipy.stats import norm\n",
    "import numpy as np\n",
    "  \n",
    "data_start = -5\n",
    "data_end = 5\n",
    "data_points = 11\n",
    "data = np.linspace(data_start, data_end, data_points)\n",
    "  \n",
    "mean = np.mean(data)\n",
    "std = np.std(data)\n",
    "  \n",
    "probability_pdf = norm.pdf(3, loc=mean, scale=std)\n",
    "print(probability_pdf)"
   ]
  },
  {
   "cell_type": "markdown",
   "id": "c84b7d0e-b089-4b99-a497-71c3f3e370b6",
   "metadata": {},
   "source": [
    "Ans4."
   ]
  },
  {
   "cell_type": "markdown",
   "id": "a48076e3-1277-4642-b122-bdf019790f67",
   "metadata": {},
   "source": [
    "Binomial distribution is applicable when the trials are independent and each trial has just two outcomes success and failure. \n",
    "\n",
    "For eg -. applied in coin tossing experiments, sampling inspection plan"
   ]
  },
  {
   "cell_type": "markdown",
   "id": "3132d008-6483-4cb1-94e6-9b611e4190b3",
   "metadata": {},
   "source": [
    "Ans7."
   ]
  },
  {
   "cell_type": "markdown",
   "id": "0b2f0336-0d5b-421e-b85c-a0db4cddf2b1",
   "metadata": {},
   "source": [
    "In a Binomial distribution, there is a fixed number of trials \n",
    "\n",
    "e.g. flip a coin 3 times\n",
    "\n",
    "In a Poisson distribution, there could be any number of events that occur during a certain time interval\n",
    "\n",
    "e.g. how many customers will arrive at a store in a given hour."
   ]
  },
  {
   "cell_type": "markdown",
   "id": "60de88af-1100-4980-a876-309acd14eacb",
   "metadata": {},
   "source": [
    "Ans9."
   ]
  },
  {
   "cell_type": "markdown",
   "id": "6535fcbc-e15a-43a2-b1d7-0c54a046010c",
   "metadata": {},
   "source": [
    " In binomial distribution\n",
    " \n",
    " Mean > Variance while\n",
    " \n",
    " in poisson distribution \n",
    " \n",
    " mean = variance"
   ]
  },
  {
   "cell_type": "markdown",
   "id": "9e21500c-28eb-441e-83ff-0f09df00d625",
   "metadata": {},
   "source": [
    "Ans10."
   ]
  },
  {
   "cell_type": "markdown",
   "id": "46bcbc35-c1a9-4695-b8d7-75636e8c4c85",
   "metadata": {},
   "source": [
    " In normal distribution with respect to mean position, the least frequent data appear in the further away from the centre . "
   ]
  },
  {
   "cell_type": "code",
   "execution_count": null,
   "id": "5606caee-4820-437a-8ec5-9a0bde92f0ba",
   "metadata": {},
   "outputs": [],
   "source": []
  }
 ],
 "metadata": {
  "kernelspec": {
   "display_name": "Python 3 (ipykernel)",
   "language": "python",
   "name": "python3"
  },
  "language_info": {
   "codemirror_mode": {
    "name": "ipython",
    "version": 3
   },
   "file_extension": ".py",
   "mimetype": "text/x-python",
   "name": "python",
   "nbconvert_exporter": "python",
   "pygments_lexer": "ipython3",
   "version": "3.10.8"
  }
 },
 "nbformat": 4,
 "nbformat_minor": 5
}
