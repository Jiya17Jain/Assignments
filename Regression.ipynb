{
 "cells": [
  {
   "cell_type": "markdown",
   "id": "243ec4f7-7fb8-46ed-b62c-9b8347a33be2",
   "metadata": {},
   "source": [
    "Ans1.\n",
    "\n",
    "Simple linear regression has only one x and one y variable. Multiple linear regression has one y and two or more x variables. "
   ]
  },
  {
   "cell_type": "markdown",
   "id": "e50820b3-6c1d-482d-b876-1737cdf4fdfb",
   "metadata": {},
   "source": [
    "Ans2.\n",
    "\n",
    "Assumptions are -\n",
    "There is a linear relationship between the predictors (x) and the outcome (y)\n",
    "Predictors (x) are independent and observed with negligible error.\n",
    "Residual Errors have a mean value of zero.\n",
    "Residual Errors have constant variance.\n",
    "Residual Errors are independent from each other and predictors (x)\n",
    "\n",
    "Can be checked bu using a scatter plot ."
   ]
  },
  {
   "cell_type": "markdown",
   "id": "5458aa35-ec5a-4ab8-b046-0091c1ea39bc",
   "metadata": {},
   "source": [
    "Ans3.\n",
    "\n",
    "Interpret the slope can be predicted as  \n",
    "\n",
    "If the speed of the club hitting the ball increases by 1 mph, then the model predicts that the length the ball travels increases by 57.66 yards. Interpret the intercept: If the ball is hit with a speed of 0 mph, then the model predicts that the length the ball travels will be 3.18 yards."
   ]
  },
  {
   "cell_type": "markdown",
   "id": "8fe12f4b-ba53-4ea9-89b4-fb0df96d22a6",
   "metadata": {},
   "source": [
    "Ans4.\n",
    "\n",
    "Gradient descent is an optimization algorithm which is commonly-used to train machine learning models and neural networks. "
   ]
  },
  {
   "cell_type": "markdown",
   "id": "38148bc9-0d8a-4705-b4d6-7348a7c41db8",
   "metadata": {},
   "source": [
    "Ans5.\n",
    "\n",
    "Multiple regression is a broader class of regressions that encompasses linear and nonlinear regressions with multiple explanatory variables. Whereas linear regress only has one independent variable impacting the slope of the relationship, multiple regression incorporates multiple independent variables."
   ]
  },
  {
   "cell_type": "markdown",
   "id": "977de389-86df-44de-9cfe-0c13dc2ed584",
   "metadata": {},
   "source": [
    "Ans6.\n",
    "\n",
    "Multicollinearity occurs when two or more independent variables in a data frame have a high correlation with one another in a regression model. This means that one independent variable can be predicted from another in a regression model."
   ]
  },
  {
   "cell_type": "markdown",
   "id": "2bc5f051-10d3-4129-a56e-6c750c2bf22e",
   "metadata": {},
   "source": [
    "Ans7.\n",
    "\n",
    "A polynomial regression model is a machine learning model that can capture non-linear relationships between variables by fitting a non-linear regression line, which may not be possible with simple linear regression."
   ]
  },
  {
   "cell_type": "markdown",
   "id": "e992ee68-46de-4ccf-8f84-78b065597695",
   "metadata": {},
   "source": [
    "Ans8.\n",
    "\n",
    "Advantages of using Polynomial Regression:\n",
    "\n",
    "Polynomial provides the best approximation of the relationship between the dependent and independent variable.\n",
    " \n",
    "Broad range of function can be fit under it. It basically fits a wide range of curvature.\n",
    "\n",
    "Disadvantages of Polynomial Regression\n",
    "\n",
    "One or two outliers in the data might have a significant impact on the nonlinear analysis' outcomes. \n",
    "\n",
    "In the situation of non linear relationship polynomial regression is prefered ."
   ]
  },
  {
   "cell_type": "code",
   "execution_count": null,
   "id": "4dc6a8a6-3352-45d0-8276-aa3864fd2f1f",
   "metadata": {},
   "outputs": [],
   "source": []
  }
 ],
 "metadata": {
  "kernelspec": {
   "display_name": "Python 3 (ipykernel)",
   "language": "python",
   "name": "python3"
  },
  "language_info": {
   "codemirror_mode": {
    "name": "ipython",
    "version": 3
   },
   "file_extension": ".py",
   "mimetype": "text/x-python",
   "name": "python",
   "nbconvert_exporter": "python",
   "pygments_lexer": "ipython3",
   "version": "3.10.8"
  }
 },
 "nbformat": 4,
 "nbformat_minor": 5
}
