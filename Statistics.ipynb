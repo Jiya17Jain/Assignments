{
 "cells": [
  {
   "cell_type": "markdown",
   "id": "28d3922a-1cbe-42a5-b566-0727950a10ad",
   "metadata": {},
   "source": [
    "Ans1."
   ]
  },
  {
   "cell_type": "markdown",
   "id": "9ad24aff-7845-4ae8-827c-6dcba340782f",
   "metadata": {},
   "source": [
    "Statistics is collecting , organising and summarising data.\n",
    "Using various statistics tools a conclusion can be drawn for various dataset."
   ]
  },
  {
   "cell_type": "markdown",
   "id": "38c2d9da-53c6-4bfe-ab89-1926a656387d",
   "metadata": {},
   "source": [
    "Ans2."
   ]
  },
  {
   "cell_type": "markdown",
   "id": "929e18fe-d153-4fff-bf69-335b0617cf87",
   "metadata": {},
   "source": [
    "Various types of statistics are - DESCRIPTIVE AND INFRENTIAL STATISTICS.\n",
    "Descriptive statistics is used to summarize and describe the characteristics of a dataset, Eg.-Finding the avaerage weight of students of a class.\n",
    "\n",
    "while inferential statistics is used to make inferences about a population based on a sample , Eg.- By looking ata a sample data , finding out which party can be won ata election ."
   ]
  },
  {
   "cell_type": "markdown",
   "id": "2c021e9e-5511-46ec-b72d-9351f15d1037",
   "metadata": {},
   "source": [
    "Ans3."
   ]
  },
  {
   "cell_type": "markdown",
   "id": "1da46fa0-b8d6-419c-9822-d69cb5148a3b",
   "metadata": {},
   "source": [
    "Different data types are-\n",
    "\n",
    "Quantitive - have numerical value \n",
    "\n",
    "  Discrete-Having whwole value , Eg.-No.of students in class\n",
    "  \n",
    "  Continous-Can have floating value , Eg.- Record of height\n",
    "  \n",
    "Qualitative-Categorical data\n",
    "\n",
    "   Nominal- Not differentiated on rank basis , Eg.-Blood group\n",
    "   \n",
    "   Ordinal-Differentiaed on rank basis , Eg.- Feedback"
   ]
  },
  {
   "cell_type": "markdown",
   "id": "d608ba94-ac0a-4f2f-9145-e20a51b1080d",
   "metadata": {},
   "source": [
    "Ans4."
   ]
  },
  {
   "cell_type": "markdown",
   "id": "0f7d656d-b24e-4d9a-bd6b-ffefa4cbd557",
   "metadata": {},
   "source": [
    "(i) Grading in exam: A+, A, B+, B, C+, C, D, E \n",
    "\n",
    "Qualitative\n",
    "\n",
    "(ii) Colour of mangoes: yellow, green, orange, red\n",
    "\n",
    "Qualitative\n",
    "\n",
    "(iii) Height data of a class: [178.9, 179, 179.5, 176, 177.2, 178.3, 175.8,...]\n",
    "\n",
    "Quantitative\n",
    "\n",
    "(iv) Number of mangoes exported by a farm: [500, 600, 478, 672, ...]\n",
    "\n",
    "Quantative\n"
   ]
  },
  {
   "cell_type": "markdown",
   "id": "3498ecf8-3e0d-42e4-835c-7ce126c23e1d",
   "metadata": {},
   "source": [
    "Ans5."
   ]
  },
  {
   "cell_type": "markdown",
   "id": "842af1ba-b26d-40bb-95d9-0a7cc72411ae",
   "metadata": {},
   "source": [
    "There are 4 levels of measurement, which can be ranked from low to high:\n",
    "\n",
    "Nominal: the data can only be categorized.\n",
    "\n",
    "Ordinal: the data can be categorized and ranked.\n",
    "\n",
    "Interval: the data can be categorized and ranked, and evenly spaced.\n",
    "\n",
    "Ratio: the data can be categorized, ranked, evenly spaced and has a natural zero."
   ]
  },
  {
   "cell_type": "markdown",
   "id": "2bead06c-1f26-46f5-be7d-2e2d5d17b387",
   "metadata": {},
   "source": [
    "Ans6."
   ]
  },
  {
   "cell_type": "markdown",
   "id": "d880609f-0643-4f20-87de-a9eb81b8b928",
   "metadata": {},
   "source": [
    "It is important to understand the level of measurement of variables in research, because the level of measurement determines the type of statistical analysis that can be conducted, and, therefore, the type of conclusions that can be drawn from the research."
   ]
  },
  {
   "cell_type": "markdown",
   "id": "f718cfbb-54b6-4f6e-bd58-2e0a056941b1",
   "metadata": {},
   "source": [
    "Ans7."
   ]
  },
  {
   "cell_type": "markdown",
   "id": "96c232eb-1475-43d0-9e3c-0b32afc317b4",
   "metadata": {},
   "source": [
    "Nominal data is classified without a natural order or rank, whereas ordinal data has a predetermined or natural order. "
   ]
  },
  {
   "cell_type": "markdown",
   "id": "2ddbf33c-ca81-47ee-b3b8-d0728564f1c8",
   "metadata": {},
   "source": [
    "Ans8."
   ]
  },
  {
   "cell_type": "markdown",
   "id": "a19c3c23-789d-4052-ade2-812d3b2fa49e",
   "metadata": {},
   "source": [
    "Histogram can be used to display data in terms of range."
   ]
  },
  {
   "cell_type": "markdown",
   "id": "2060320d-4d51-4d44-b2e6-c5a5f6af9694",
   "metadata": {},
   "source": [
    "Ans9."
   ]
  },
  {
   "cell_type": "markdown",
   "id": "844be4c7-3889-4e75-92a4-28ba4b3a8056",
   "metadata": {},
   "source": [
    "Descriptive statistics summarize the characteristics of a data set.\n",
    "\n",
    "Eg.-To find average height of students\n",
    "\n",
    "Inferential statistics allow you to test a hypothesis or assess whether your data is generalizable to the broader population.\n",
    "\n",
    "Eg.-By looking ata a sample data , finding out which party can be won ata election ."
   ]
  },
  {
   "cell_type": "markdown",
   "id": "856c26f1-8dc8-4076-8055-eeca0dcb4c8c",
   "metadata": {},
   "source": [
    "Ans10."
   ]
  },
  {
   "cell_type": "markdown",
   "id": "79e19c2a-4de1-4816-a660-954632cda33e",
   "metadata": {},
   "source": [
    "Median: “middle value” or the average of “middle two values” in a data set when the numbers are arranged in an order. Mode: value that occurs with greatest frequency."
   ]
  }
 ],
 "metadata": {
  "kernelspec": {
   "display_name": "Python 3 (ipykernel)",
   "language": "python",
   "name": "python3"
  },
  "language_info": {
   "codemirror_mode": {
    "name": "ipython",
    "version": 3
   },
   "file_extension": ".py",
   "mimetype": "text/x-python",
   "name": "python",
   "nbconvert_exporter": "python",
   "pygments_lexer": "ipython3",
   "version": "3.10.8"
  }
 },
 "nbformat": 4,
 "nbformat_minor": 5
}
