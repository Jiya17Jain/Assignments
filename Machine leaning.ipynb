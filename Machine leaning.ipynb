{
 "cells": [
  {
   "cell_type": "markdown",
   "id": "7fc88538-1efa-482d-8d78-1322fa113199",
   "metadata": {},
   "source": [
    "Ans1.\n",
    "\n",
    "(a)Artificial intelligence is the simulation of human intelligence processes by machines, especially computer systems.\n",
    "eg.-Alexa\n",
    "\n",
    "(b)Machine learning is statistics tool used to analyze , visualise , and predicte models.It is a subet of Artificial intelligence .\n",
    "eg.-Forecastng\n",
    "\n",
    "(c)Deep learning is something which mimics human brain and provide with the recommendations . It is a subset of Machine learning .eg.-CHAT BOXES , FACIAL RECOGNISATION "
   ]
  },
  {
   "cell_type": "markdown",
   "id": "ca6fa002-0df6-4b48-ad62-0880d867cf80",
   "metadata": {},
   "source": [
    "Ans2.\n",
    "\n",
    "In Supervised learning,one trains the model on the basis of known input and output parameters .\n",
    "Eg.- Image and speech recognition, recommendation systems, fraud detection "
   ]
  },
  {
   "cell_type": "markdown",
   "id": "8386fcd6-b8b9-4bee-97a3-84dc1876ed45",
   "metadata": {},
   "source": [
    "Ans3.\n",
    "\n",
    "In unsupervised learning , there is no pre known parameters . Segmentation of data is done ad the target is achieved .Eg.-K-Means Clustering, Principal Component Analysis , Hierarchical Clustering "
   ]
  },
  {
   "cell_type": "markdown",
   "id": "f33a0311-cbca-48c9-bb9c-cda8ec07631b",
   "metadata": {},
   "source": [
    "Ans4.\n",
    "\n",
    "AI is a superset under which ML , DL comes . DS is important to carry out each and every function under AI , ML or DL .\n",
    "\n"
   ]
  },
  {
   "cell_type": "markdown",
   "id": "2480e01d-7db1-4263-894f-94bfcb2f7ea4",
   "metadata": {},
   "source": [
    "Ans5.\n",
    "\n",
    "Semi-supervised learning aims to label unlabeled data points using knowledge learned from a small number of labeled data points. \n",
    "\n",
    "Unsupervised learning does not have  any labeled outputs, so its goal is to infer the natural structure present within a set of data points."
   ]
  },
  {
   "cell_type": "markdown",
   "id": "ba95e29d-e42f-4a08-85d0-18829042f61e",
   "metadata": {},
   "source": [
    "Ans6.\n",
    "\n",
    "Training data is the set of the data on which the actual training takes place.\n",
    "\n",
    "Validation split helps to improve the model performance by fine-tuning the model after each epoch.\n",
    "\n",
    "The test set informs us about the final accuracy of the model after completing the training phase."
   ]
  },
  {
   "cell_type": "markdown",
   "id": "bdc8ff50-b8a3-409b-b4ef-392234a4112f",
   "metadata": {},
   "source": [
    "Ans7.\n",
    "\n",
    "Unsupervised anomaly detection involves an unlabeled dataset. It assumes that the majority data points in the unlabeled dataset are “normal” and it looks for data points that differs from the “normal” data points.This assumption is used to classify data points that occur less frequently as anomalies."
   ]
  },
  {
   "cell_type": "markdown",
   "id": "c6668276-99d0-4b3a-ad70-8e702c7ad0be",
   "metadata": {},
   "source": [
    "Ans8.\n",
    "\n"
   ]
  }
 ],
 "metadata": {
  "kernelspec": {
   "display_name": "Python 3 (ipykernel)",
   "language": "python",
   "name": "python3"
  },
  "language_info": {
   "codemirror_mode": {
    "name": "ipython",
    "version": 3
   },
   "file_extension": ".py",
   "mimetype": "text/x-python",
   "name": "python",
   "nbconvert_exporter": "python",
   "pygments_lexer": "ipython3",
   "version": "3.10.8"
  }
 },
 "nbformat": 4,
 "nbformat_minor": 5
}
