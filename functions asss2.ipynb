{
 "cells": [
  {
   "cell_type": "code",
   "execution_count": 10,
   "id": "3e968b99-1bc5-45e8-8a7a-4e4832e6a896",
   "metadata": {},
   "outputs": [
    {
     "name": "stdout",
     "output_type": "stream",
     "text": [
      "263\n"
     ]
    }
   ],
   "source": [
    "# def is the keyword used to create a function.\n",
    "def odd(x):\n",
    "        if x%2!=0:\n",
    "            print(x)\n",
    "            \n",
    " \n",
    "odd(263)"
   ]
  },
  {
   "cell_type": "code",
   "execution_count": 13,
   "id": "db3bc69c-4bf6-4b2e-bf77-e26a9c661818",
   "metadata": {},
   "outputs": [
    {
     "name": "stdout",
     "output_type": "stream",
     "text": [
      "4\n"
     ]
    }
   ],
   "source": [
    "# *args is used to enter multiple parameters in form of tuple.\n",
    "def dd(*args):\n",
    "    print(len(args))\n",
    "          \n",
    "dd(67,98,90,54)"
   ]
  },
  {
   "cell_type": "code",
   "execution_count": 17,
   "id": "e359c000-47cd-4a1d-9347-3e55c37999bc",
   "metadata": {},
   "outputs": [
    {
     "name": "stdout",
     "output_type": "stream",
     "text": [
      "3\n"
     ]
    }
   ],
   "source": [
    "# **kwrgs is used to enter multiple parameters in the form of dictionary.\n",
    "def dm(**kwrgs):\n",
    "    print(len(kwrgs))\n",
    "    \n",
    "dm(a=34,b=89,c=83)"
   ]
  },
  {
   "cell_type": "code",
   "execution_count": 18,
   "id": "ab9742d2-3243-4aba-9069-3b698eec6aa7",
   "metadata": {},
   "outputs": [
    {
     "data": {
      "text/plain": [
       "'j'"
      ]
     },
     "execution_count": 18,
     "metadata": {},
     "output_type": "execute_result"
    }
   ],
   "source": [
    "# in iterator the sequence is moved one by one.\n",
    "s='jiya'\n",
    "s1=iter(s)\n",
    "next(s1)"
   ]
  },
  {
   "cell_type": "code",
   "execution_count": 20,
   "id": "17a82afb-acf7-4c05-b666-8d1a69007587",
   "metadata": {},
   "outputs": [
    {
     "data": {
      "text/plain": [
       "2"
      ]
     },
     "execution_count": 20,
     "metadata": {},
     "output_type": "execute_result"
    }
   ],
   "source": [
    "l=[2, 4, 6, 8, 10, 12, 14,16, 18, 20]\n",
    "l2=iter(l)\n",
    "next(l2)"
   ]
  },
  {
   "cell_type": "code",
   "execution_count": 21,
   "id": "40b92b23-1cd6-4595-a924-cbf20447eb8c",
   "metadata": {},
   "outputs": [
    {
     "data": {
      "text/plain": [
       "4"
      ]
     },
     "execution_count": 21,
     "metadata": {},
     "output_type": "execute_result"
    }
   ],
   "source": [
    "next(l2)"
   ]
  },
  {
   "cell_type": "code",
   "execution_count": 22,
   "id": "15e71159-400e-4334-a3bf-b8bf4671fb80",
   "metadata": {},
   "outputs": [
    {
     "data": {
      "text/plain": [
       "6"
      ]
     },
     "execution_count": 22,
     "metadata": {},
     "output_type": "execute_result"
    }
   ],
   "source": [
    "next(l2)"
   ]
  },
  {
   "cell_type": "code",
   "execution_count": 24,
   "id": "3050a0b3-c8d6-41e6-8961-5de7d932faa0",
   "metadata": {},
   "outputs": [
    {
     "data": {
      "text/plain": [
       "<generator object test at 0x7f98342e5770>"
      ]
     },
     "execution_count": 24,
     "metadata": {},
     "output_type": "execute_result"
    }
   ],
   "source": [
    "# generator function saves memory and gives output one by one.\n",
    "# yield is used to get data one by one\n",
    "def test(n):\n",
    "    a,b=0,1\n",
    "    for i in range(n):\n",
    "        yield a\n",
    "        a,b=b,a+b\n",
    "        \n",
    "test(10)"
   ]
  },
  {
   "cell_type": "code",
   "execution_count": 2,
   "id": "48215d3b-0ab6-44cc-8b08-0c2a31f7387a",
   "metadata": {},
   "outputs": [
    {
     "name": "stdout",
     "output_type": "stream",
     "text": [
      "['p', 'w', 's', 'k', 'i', 'l', 'l', 's']\n"
     ]
    }
   ],
   "source": [
    "s='pwskills'\n",
    "d=[h for h in s]\n",
    "print(d)"
   ]
  },
  {
   "cell_type": "code",
   "execution_count": 3,
   "id": "c6a25118-e9b8-4c6d-b852-752892c38d1f",
   "metadata": {},
   "outputs": [
    {
     "name": "stdout",
     "output_type": "stream",
     "text": [
      "[1, 3, 5, 7, 9, 11, 13, 15, 17, 19, 21, 23, 25, 27, 29, 31, 33, 35, 37, 39, 41, 43, 45, 47, 49, 51, 53, 55, 57, 59, 61, 63, 65, 67, 69, 71, 73, 75, 77, 79, 81, 83, 85, 87, 89, 91, 93, 95, 97, 99]\n"
     ]
    }
   ],
   "source": [
    "d=[j for j in range(1,101) if j%2!=0]\n",
    "print(d)"
   ]
  },
  {
   "cell_type": "code",
   "execution_count": 4,
   "id": "13a9efd2-80f4-401b-a900-b3dbaca50732",
   "metadata": {},
   "outputs": [],
   "source": [
    "def prime():\n",
    "    n=1\n",
    "    while n<=100:\n",
    "        i=2\n",
    "        while i<=n//2:\n",
    "            if n%i==0:\n",
    "                break\n",
    "                i=+1\n",
    "            if i>=n//2:\n",
    "                yield(n)\n",
    "            n=+1   \n",
    "            "
   ]
  },
  {
   "cell_type": "code",
   "execution_count": 5,
   "id": "c12ade71-8c19-4a07-900a-5bb219f23bd6",
   "metadata": {},
   "outputs": [
    {
     "data": {
      "text/plain": [
       "<generator object prime at 0x7f825c179620>"
      ]
     },
     "execution_count": 5,
     "metadata": {},
     "output_type": "execute_result"
    }
   ],
   "source": [
    "prime()"
   ]
  },
  {
   "cell_type": "code",
   "execution_count": null,
   "id": "ae4e0d6f-86fc-4b77-9dbc-4b7323da04d1",
   "metadata": {},
   "outputs": [],
   "source": [
    "for i in prime(100):\n",
    "    print(next(i))"
   ]
  },
  {
   "cell_type": "code",
   "execution_count": null,
   "id": "ff65f9b6-9dcd-4316-a9d9-d1714ce8f4c5",
   "metadata": {},
   "outputs": [],
   "source": [
    "def fib():\n",
    "    a,b=0,1\n",
    "    while True:\n",
    "        yield a\n",
    "        a,b=b,a+b"
   ]
  },
  {
   "cell_type": "code",
   "execution_count": null,
   "id": "1581f909-2cfc-42ab-8af8-f86aa6e13ba6",
   "metadata": {},
   "outputs": [],
   "source": [
    "f=fib()\n",
    "\n",
    "\n"
   ]
  },
  {
   "cell_type": "code",
   "execution_count": null,
   "id": "c1437532-6300-4551-8b71-a6e071323968",
   "metadata": {},
   "outputs": [],
   "source": [
    "for i in range(10):\n",
    "    print(next(f))\n"
   ]
  },
  {
   "cell_type": "code",
   "execution_count": null,
   "id": "df196f57-12d2-4ba3-bda7-f98fb7a258ce",
   "metadata": {},
   "outputs": [],
   "source": []
  }
 ],
 "metadata": {
  "kernelspec": {
   "display_name": "Python 3 (ipykernel)",
   "language": "python",
   "name": "python3"
  },
  "language_info": {
   "codemirror_mode": {
    "name": "ipython",
    "version": 3
   },
   "file_extension": ".py",
   "mimetype": "text/x-python",
   "name": "python",
   "nbconvert_exporter": "python",
   "pygments_lexer": "ipython3",
   "version": "3.10.8"
  }
 },
 "nbformat": 4,
 "nbformat_minor": 5
}
