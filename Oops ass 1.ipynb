{
 "cells": [
  {
   "cell_type": "markdown",
   "id": "873333bb-4883-4e03-ae1d-a7d670c1e047",
   "metadata": {},
   "source": [
    "\n"
   ]
  },
  {
   "cell_type": "markdown",
   "id": "a43e6398-a3cf-4dfd-98c8-69531eee4424",
   "metadata": {},
   "source": [
    "Class is a blue print , which classify real world entity .\n",
    "Object is a variable which takes the values and act as an instance."
   ]
  },
  {
   "cell_type": "markdown",
   "id": "ba6cebc5-5568-4288-994f-2427e2180ad5",
   "metadata": {},
   "source": [
    "Four pillars of Oops are -\n",
    "Polymorphism,Encaspsulation,Inheritance and abstaraction.\n"
   ]
  },
  {
   "cell_type": "markdown",
   "id": "3dbffcdf-bf7a-48e7-9191-0f3ce2754218",
   "metadata": {},
   "source": [
    " __init__ method id used to input from user in a class.\n",
    " "
   ]
  },
  {
   "cell_type": "code",
   "execution_count": 3,
   "id": "9ecc79c6-bd84-47da-85ff-e3ecd0237734",
   "metadata": {},
   "outputs": [],
   "source": [
    "class pw:\n",
    "    def __init__(self,name,age):\n",
    "        self.name=name\n",
    "        self.age=age\n",
    "        \n",
    "    def information(self):\n",
    "        return(self.name,self.age)\n"
   ]
  },
  {
   "cell_type": "code",
   "execution_count": 4,
   "id": "ab49affb-49a3-4f7c-a98d-b7bcc77c9113",
   "metadata": {},
   "outputs": [],
   "source": [
    "r=pw(\"rohn\",18)"
   ]
  },
  {
   "cell_type": "markdown",
   "id": "aa902f1e-fd65-410d-9565-a926c5738a32",
   "metadata": {},
   "source": [
    "Self is used as a cursor to pouint objects."
   ]
  },
  {
   "cell_type": "code",
   "execution_count": null,
   "id": "e3f2e659-22c1-4820-b7f8-cfffa5e921b9",
   "metadata": {},
   "outputs": [],
   "source": [
    "Inheritance defines the propertirs of parent class in child class."
   ]
  },
  {
   "cell_type": "code",
   "execution_count": null,
   "id": "b0315bfa-a147-4418-b71e-fbbf7dc38286",
   "metadata": {},
   "outputs": [],
   "source": [
    "class test :\n",
    "    def t (self) :\n",
    "        return(\"This is my class\")\n",
    "    \n",
    "class child(test):\n",
    "    pass\n"
   ]
  },
  {
   "cell_type": "code",
   "execution_count": null,
   "id": "c22fa4c4-7a99-4544-bfd2-8275fe6884e9",
   "metadata": {},
   "outputs": [],
   "source": [
    "c=child()\n",
    "c.test"
   ]
  }
 ],
 "metadata": {
  "kernelspec": {
   "display_name": "Python 3 (ipykernel)",
   "language": "python",
   "name": "python3"
  },
  "language_info": {
   "codemirror_mode": {
    "name": "ipython",
    "version": 3
   },
   "file_extension": ".py",
   "mimetype": "text/x-python",
   "name": "python",
   "nbconvert_exporter": "python",
   "pygments_lexer": "ipython3",
   "version": "3.10.8"
  }
 },
 "nbformat": 4,
 "nbformat_minor": 5
}
