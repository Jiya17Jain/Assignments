{
 "cells": [
  {
   "cell_type": "markdown",
   "id": "a6ad7606-165d-41ea-be59-4dc1fb4a2f19",
   "metadata": {},
   "source": [
    "Ans1."
   ]
  },
  {
   "cell_type": "markdown",
   "id": "e59f92a9-75e7-4c03-bf29-604f11659ebf",
   "metadata": {},
   "source": [
    "Probability mass function denotes the probability that a discrete random variable will take on a particular value. \n",
    "\n",
    "Eg. Tossing coin\n",
    "\n",
    "Probability density function gives the probability that a continuous random variable will lie between a certain specified interval."
   ]
  },
  {
   "cell_type": "markdown",
   "id": "6d0ce39e-1be7-43cb-a9e3-d9475c730089",
   "metadata": {},
   "source": [
    "Ans2."
   ]
  },
  {
   "cell_type": "markdown",
   "id": "48f7fec6-6760-4bef-a184-5cfef82d9923",
   "metadata": {},
   "source": [
    "The cumulative distribution function is used to describe the probability distribution of random variables. It can be used to describe the probability for a discrete, continuous or mixed variable. It is obtained by summing up the probability density function and getting the cumulative probability for a random variable."
   ]
  },
  {
   "cell_type": "markdown",
   "id": "7423944a-ef51-4b64-aae1-99a06ce27420",
   "metadata": {},
   "source": [
    "Ans3."
   ]
  },
  {
   "cell_type": "markdown",
   "id": "f701990c-403a-40fa-9292-0275a7aad6f7",
   "metadata": {},
   "source": [
    "The height of people is an example of normal distribution.\n",
    "\n",
    "the parameters of the normal distribution relate to the shape of the distribution as bell shape curve."
   ]
  },
  {
   "cell_type": "markdown",
   "id": "f20b4e61-8fc2-43f5-b31c-128fe6a871b9",
   "metadata": {},
   "source": [
    "Ans4."
   ]
  },
  {
   "cell_type": "markdown",
   "id": "2c3ac749-3524-4577-899a-1958ed813d1e",
   "metadata": {},
   "source": [
    "Measures of reading ability, introversion, job satisfaction, and memory are among the many psychological variables approximately normally distributed."
   ]
  },
  {
   "cell_type": "markdown",
   "id": "b369f9b9-e495-4b71-9428-26b527ba8625",
   "metadata": {},
   "source": [
    "Ans5.\n",
    "\n",
    "Bernoulli deals with the outcome of the single trial of the event, whereas Binomial deals with the outcome of the multiple trials of the single event. Bernoulli is used when the outcome of an event is required for only one time, whereas the Binomial is used when the outcome of an event is required multiple times.\n",
    "\n",
    "Eg. Tossing coin for independent trilas is bernoulli while tossing coin n no. of times is binomial ."
   ]
  },
  {
   "cell_type": "markdown",
   "id": "37477e50-3369-4e27-b03d-fb1d90268f09",
   "metadata": {},
   "source": [
    "Ans7.\n",
    "\n",
    "uniform distribution refers to a type of probability distribution in which all outcomes are equally likely. A deck of cards has within it uniform distributions because the likelihood of drawing a heart, a club, a diamond, or a spade is equally likely."
   ]
  },
  {
   "cell_type": "markdown",
   "id": "a750bc4a-ee7f-4490-8cf6-cafcbd874586",
   "metadata": {},
   "source": [
    "Ans8.\n",
    "\n",
    "A z-score measures the distance between a data point and the mean using standard deviations. Z-scores can be positive or negative. The sign tells you whether the observation is above or below the mean.It is used to find area under curve and used for statistical test."
   ]
  },
  {
   "cell_type": "markdown",
   "id": "7f14e14d-288c-40d7-8150-d572c9e8ec3b",
   "metadata": {},
   "source": [
    "Ans9.\n",
    "\n",
    "The central limit theorem (CLT) states that the distribution of sample means approximates a normal distribution as the sample size gets larger, regardless of the population's distribution."
   ]
  },
  {
   "cell_type": "markdown",
   "id": "534b22f1-d211-4ae6-a9aa-bcb24dfce48c",
   "metadata": {},
   "source": [
    "Ans19"
   ]
  }
 ],
 "metadata": {
  "kernelspec": {
   "display_name": "Python 3 (ipykernel)",
   "language": "python",
   "name": "python3"
  },
  "language_info": {
   "codemirror_mode": {
    "name": "ipython",
    "version": 3
   },
   "file_extension": ".py",
   "mimetype": "text/x-python",
   "name": "python",
   "nbconvert_exporter": "python",
   "pygments_lexer": "ipython3",
   "version": "3.10.8"
  }
 },
 "nbformat": 4,
 "nbformat_minor": 5
}
