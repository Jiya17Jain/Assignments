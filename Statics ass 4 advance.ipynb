{
 "cells": [
  {
   "cell_type": "markdown",
   "id": "ab1ba2ba-95fc-456e-b23b-c4213c1a6844",
   "metadata": {},
   "source": [
    "Ans1."
   ]
  },
  {
   "cell_type": "markdown",
   "id": "8852c6a1-b7ed-4ad2-92e1-1b2f83122e2d",
   "metadata": {},
   "source": [
    " A z-test is used to test a Null Hypothesis if the population variance is known, or if the sample size is larger than 30, for an unknown population variance. A t-test is used when the sample size is less than 30 and the population variance is unknown."
   ]
  },
  {
   "cell_type": "markdown",
   "id": "d81d3a71-3753-4584-a0a5-820077bc0b10",
   "metadata": {},
   "source": [
    "Ans2.\n",
    "\n",
    "One-tailed tests allow for the possibility of an effect in one direction. Two-tailed tests test for the possibility of an effect in two directions—positive and negative."
   ]
  },
  {
   "cell_type": "markdown",
   "id": "affc380a-f5c7-477c-ac51-71e0d130fdc9",
   "metadata": {},
   "source": [
    "Ans3.\n",
    "\n",
    "A type I error occurs if an investigator rejects a null hypothesis that is actually true in the population; \n",
    "\n",
    "a type II error occurs if the investigator fails to reject a null hypothesis that is actually false in the population."
   ]
  },
  {
   "cell_type": "markdown",
   "id": "1f26ee23-3b2d-4fac-b3c3-62f3d77e8b35",
   "metadata": {},
   "source": [
    "Ans4.\n",
    "\n",
    "Bayes theorem gives the probability of an “event” with the given information on “tests”.\n",
    "\n",
    "eg.-if a disease is related to age, then, using Bayes' theorem, a person's age can be used to more accurately assess the probability that they have the disease, compared to the assessment of the probability of disease made without knowledge of the person's age."
   ]
  },
  {
   "cell_type": "markdown",
   "id": "3c684394-73a2-43a9-a6ca-ac67836212ed",
   "metadata": {},
   "source": [
    "Ans5.\n",
    "\n",
    "A confidence interval is the mean of your estimate plus and minus the variation in that estimate. This is the range of values you expect your estimate to fall between if you redo your test, within a certain level of confidence."
   ]
  },
  {
   "cell_type": "markdown",
   "id": "5221fd8b-7b08-42a0-9a90-f687296f1a46",
   "metadata": {},
   "source": [
    "Ans7.\n",
    "\n",
    "Interpreted result is : Confidence interval 45-55."
   ]
  },
  {
   "cell_type": "markdown",
   "id": "240a3df5-c2e1-4f31-a0ae-aefcdab5f3f3",
   "metadata": {},
   "source": [
    "Ans8.\n",
    "\n",
    "As sample size increases, the margin of error decreases. As the variability in the population increases, the margin of error increases. As the confidence level increases, the margin of error increases."
   ]
  },
  {
   "cell_type": "code",
   "execution_count": null,
   "id": "1aaa6b4b-9f24-46cb-a176-c817f2e908d4",
   "metadata": {},
   "outputs": [],
   "source": []
  }
 ],
 "metadata": {
  "kernelspec": {
   "display_name": "Python 3 (ipykernel)",
   "language": "python",
   "name": "python3"
  },
  "language_info": {
   "codemirror_mode": {
    "name": "ipython",
    "version": 3
   },
   "file_extension": ".py",
   "mimetype": "text/x-python",
   "name": "python",
   "nbconvert_exporter": "python",
   "pygments_lexer": "ipython3",
   "version": "3.10.8"
  }
 },
 "nbformat": 4,
 "nbformat_minor": 5
}
