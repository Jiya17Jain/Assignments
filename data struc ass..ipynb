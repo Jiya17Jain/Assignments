{
 "cells": [
  {
   "cell_type": "code",
   "execution_count": 1,
   "id": "31bc7a66-e8fc-4594-b486-d5dfef5f2a1d",
   "metadata": {},
   "outputs": [],
   "source": [
    "#Comments are coded by the #.\n",
    "#it could be single line coment.\n",
    "#it could be multiple lines comment beginning with multiple# or triple qotes.\n"
   ]
  },
  {
   "cell_type": "code",
   "execution_count": 3,
   "id": "6950b41c-c41d-48c2-b6a7-35f0b3960381",
   "metadata": {},
   "outputs": [],
   "source": [
    "#variables represent labeled storage.\n",
    "#they can be declared by juat giving a name ,assigning it a value.\n"
   ]
  },
  {
   "cell_type": "code",
   "execution_count": 4,
   "id": "2b051f8f-e0c4-4bfb-b220-671c68cced22",
   "metadata": {},
   "outputs": [
    {
     "data": {
      "text/plain": [
       "'67'"
      ]
     },
     "execution_count": 4,
     "metadata": {},
     "output_type": "execute_result"
    }
   ],
   "source": [
    "#one data type can be convertyed to other by type casting performed by type().\n",
    "a=67\n",
    "str(a)"
   ]
  },
  {
   "cell_type": "code",
   "execution_count": 5,
   "id": "7bdff760-172a-467c-a770-6a8c954ae7f7",
   "metadata": {},
   "outputs": [
    {
     "data": {
      "text/plain": [
       "[2, 3]"
      ]
     },
     "execution_count": 5,
     "metadata": {},
     "output_type": "execute_result"
    }
   ],
   "source": [
    "my_list = [1, 2, 3, 4, 5]\n",
    "my_list[1:3]"
   ]
  },
  {
   "cell_type": "code",
   "execution_count": 7,
   "id": "e74f04cb-49eb-40a1-b878-9d35942b5029",
   "metadata": {},
   "outputs": [
    {
     "data": {
      "text/plain": [
       "complex"
      ]
     },
     "execution_count": 7,
     "metadata": {},
     "output_type": "execute_result"
    }
   ],
   "source": [
    "#complex number comprises a real and imaginary part.\n",
    "b=3+7j\n",
    "type(b)"
   ]
  },
  {
   "cell_type": "code",
   "execution_count": 8,
   "id": "444d6299-cdc7-4918-911d-5838da3e5c44",
   "metadata": {},
   "outputs": [],
   "source": [
    "age=25"
   ]
  },
  {
   "cell_type": "code",
   "execution_count": 9,
   "id": "30432407-a625-4d2d-833f-41e4d475ce52",
   "metadata": {},
   "outputs": [
    {
     "data": {
      "text/plain": [
       "float"
      ]
     },
     "execution_count": 9,
     "metadata": {},
     "output_type": "execute_result"
    }
   ],
   "source": [
    "price=9.99\n",
    "type(price)"
   ]
  },
  {
   "cell_type": "code",
   "execution_count": 10,
   "id": "236e9020-e299-4edd-918c-706309ad478a",
   "metadata": {},
   "outputs": [
    {
     "data": {
      "text/plain": [
       "'Jiya Jain'"
      ]
     },
     "execution_count": 10,
     "metadata": {},
     "output_type": "execute_result"
    }
   ],
   "source": [
    "name='Jiya Jain'\n",
    "name"
   ]
  },
  {
   "cell_type": "code",
   "execution_count": 11,
   "id": "992affec-b451-4e27-8743-f2e7edfd4d8d",
   "metadata": {},
   "outputs": [
    {
     "data": {
      "text/plain": [
       "'World'"
      ]
     },
     "execution_count": 11,
     "metadata": {},
     "output_type": "execute_result"
    }
   ],
   "source": [
    "c=\"Hello, World!\"\n",
    "c[7:12]"
   ]
  },
  {
   "cell_type": "code",
   "execution_count": 12,
   "id": "ee7cae64-cb03-49c5-911a-ef6985d2b2da",
   "metadata": {},
   "outputs": [
    {
     "data": {
      "text/plain": [
       "bool"
      ]
     },
     "execution_count": 12,
     "metadata": {},
     "output_type": "execute_result"
    }
   ],
   "source": [
    "is_student=True\n",
    "type(is_student)"
   ]
  },
  {
   "cell_type": "code",
   "execution_count": null,
   "id": "949de5ca-faf6-4449-ae6b-297ec8d347c6",
   "metadata": {},
   "outputs": [],
   "source": [
    "#open a command line and type the word python followed by the path to your script file\n"
   ]
  }
 ],
 "metadata": {
  "kernelspec": {
   "display_name": "Python 3 (ipykernel)",
   "language": "python",
   "name": "python3"
  },
  "language_info": {
   "codemirror_mode": {
    "name": "ipython",
    "version": 3
   },
   "file_extension": ".py",
   "mimetype": "text/x-python",
   "name": "python",
   "nbconvert_exporter": "python",
   "pygments_lexer": "ipython3",
   "version": "3.10.8"
  }
 },
 "nbformat": 4,
 "nbformat_minor": 5
}
