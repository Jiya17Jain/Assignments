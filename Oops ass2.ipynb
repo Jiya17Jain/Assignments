{
 "cells": [
  {
   "cell_type": "markdown",
   "id": "8178157a-17ec-4c5e-ab76-d650aa34945f",
   "metadata": {},
   "source": [
    "Abstraction is used to ,make a rough skeleton or a rough structure."
   ]
  },
  {
   "cell_type": "markdown",
   "id": "d1174d1d-aa97-4a66-9d25-3f987665bfcb",
   "metadata": {},
   "source": [
    "Encapsulation is used to hide the composition of a class"
   ]
  },
  {
   "cell_type": "markdown",
   "id": "796c13b4-9a63-45a8-820c-34a95f99690c",
   "metadata": {},
   "source": [
    "abc module is used to achieve abstraction . "
   ]
  },
  {
   "cell_type": "markdown",
   "id": "c0df0b66-7a23-4cdb-81cd-c9c6982c4de4",
   "metadata": {},
   "source": [
    "data abstraction can be achieved bu importing abc module and abstract method."
   ]
  },
  {
   "cell_type": "markdown",
   "id": "deedb9fd-f9c5-4dd8-be4f-e0ad5e3e289a",
   "metadata": {},
   "source": [
    "One cannot create an instance in abstaract method as its just a rought structure class which is caled within another another class and is not a completely defined class which can be used separately."
   ]
  },
  {
   "cell_type": "code",
   "execution_count": null,
   "id": "111980f0-11cb-4042-8fa9-472ed1e1f582",
   "metadata": {},
   "outputs": [],
   "source": []
  }
 ],
 "metadata": {
  "kernelspec": {
   "display_name": "Python 3 (ipykernel)",
   "language": "python",
   "name": "python3"
  },
  "language_info": {
   "codemirror_mode": {
    "name": "ipython",
    "version": 3
   },
   "file_extension": ".py",
   "mimetype": "text/x-python",
   "name": "python",
   "nbconvert_exporter": "python",
   "pygments_lexer": "ipython3",
   "version": "3.10.8"
  }
 },
 "nbformat": 4,
 "nbformat_minor": 5
}
