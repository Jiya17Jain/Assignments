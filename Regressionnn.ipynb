{
 "cells": [
  {
   "cell_type": "markdown",
   "id": "89d681dd-c215-42d6-adbb-982ee1b8018f",
   "metadata": {},
   "source": [
    "Ans1.\n",
    "\n",
    "Elastic net regression is a type of linear regression that combines the advantages of lasso and ridge methods. It can handle multicollinearity, reduce overfitting, and select relevant features."
   ]
  },
  {
   "cell_type": "markdown",
   "id": "b82231cd-c6f7-40d1-ac15-290bf8fb47b5",
   "metadata": {},
   "source": [
    "Ans2.\n",
    "\n",
    "Larger values of alpha imply stronger regularization (less-overfitting, may be underfitting!). Smaller values imply weak regularization (overfitting). We want to build a model that neither overfits nor underfit the data. So, we need to choose an optimal value for alpha."
   ]
  },
  {
   "cell_type": "markdown",
   "id": "9f450b5f-5c53-4b1e-8eab-67ce90009e59",
   "metadata": {},
   "source": [
    "Ans3.\n",
    "\n",
    "One of the benefits of elastic net is that it can handle multicollinearity, which is when some predictors are highly correlated with each other. Lasso can suffer from instability and inconsistency when there is multicollinearity, as it may arbitrarily select one predictor over another.\n",
    "\n",
    "Elastic net regression has some drawbacks compared to lasso and ridge regression, such as requiring more computational resources and time due to two regularization parameters and a cross-validation process.\n"
   ]
  },
  {
   "cell_type": "markdown",
   "id": "9bb4dbd9-1f46-4e2f-b064-5b98aa640c92",
   "metadata": {},
   "source": [
    "Ans4.\n",
    "\n",
    "The main uses of regression analysis are forecasting, time series modeling and finding the cause and effect relationship between variables."
   ]
  },
  {
   "cell_type": "markdown",
   "id": "f76f0078-213f-45e5-ac6a-3a4b51b4a8d8",
   "metadata": {},
   "source": [
    "Ans5.\n",
    "\n",
    "The coefficients of elastic net regression represent the linear relationship between the features and the target variable, adjusted by the regularization terms. The larger the absolute value of a coefficient, the stronger the effect of the corresponding feature on the target variable."
   ]
  },
  {
   "cell_type": "markdown",
   "id": "d83d6fbf-16e2-45a2-81eb-f9f1410ac033",
   "metadata": {},
   "source": [
    "Ans6.\n",
    "\n",
    "Imputation technique goal is to replace missing data with statistical estimates of the missing values. Mean, Median or Mode can be used as imputation value. In a mean substitution, the mean value of a variable is used in place of the missing data value for that same variable."
   ]
  },
  {
   "cell_type": "markdown",
   "id": "cfac96d3-bc41-41f2-ac37-43a3a96977e2",
   "metadata": {},
   "source": [
    "Ans7.\n",
    "\n"
   ]
  }
 ],
 "metadata": {
  "kernelspec": {
   "display_name": "Python 3 (ipykernel)",
   "language": "python",
   "name": "python3"
  },
  "language_info": {
   "codemirror_mode": {
    "name": "ipython",
    "version": 3
   },
   "file_extension": ".py",
   "mimetype": "text/x-python",
   "name": "python",
   "nbconvert_exporter": "python",
   "pygments_lexer": "ipython3",
   "version": "3.10.8"
  }
 },
 "nbformat": 4,
 "nbformat_minor": 5
}
