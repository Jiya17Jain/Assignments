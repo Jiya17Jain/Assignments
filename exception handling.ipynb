{
 "cells": [
  {
   "cell_type": "markdown",
   "id": "ce0cd675-e137-4996-a151-d34a5aab1a3b",
   "metadata": {},
   "source": [
    "Ans1.\n",
    "exception is a kind of error raised while writting a code.It disturbs flow of execution.\n",
    "It is different from syntax errors as a syntax error is raised when theres a mistake in rules of writting."
   ]
  },
  {
   "cell_type": "markdown",
   "id": "b9c4a651-e3d1-4b2c-bdc0-73d7f7badfc8",
   "metadata": {},
   "source": [
    "Ans.2\n",
    "When an exception is not handled it distubs the flow of execution of code . it does not let furthure statement to get executed."
   ]
  },
  {
   "cell_type": "markdown",
   "id": "06e46e6e-954a-49d2-841a-3cd07787759d",
   "metadata": {},
   "source": [
    "Example "
   ]
  },
  {
   "cell_type": "code",
   "execution_count": 2,
   "id": "80eb957b-bd44-4bd0-b49b-a3124cacbf96",
   "metadata": {},
   "outputs": [
    {
     "ename": "ZeroDivisionError",
     "evalue": "integer division or modulo by zero",
     "output_type": "error",
     "traceback": [
      "\u001b[0;31m---------------------------------------------------------------------------\u001b[0m",
      "\u001b[0;31mZeroDivisionError\u001b[0m                         Traceback (most recent call last)",
      "Cell \u001b[0;32mIn[2], line 1\u001b[0m\n\u001b[0;32m----> 1\u001b[0m a\u001b[38;5;241m=\u001b[39m\u001b[38;5;241;43m20\u001b[39;49m\u001b[38;5;241;43m%\u001b[39;49m\u001b[38;5;241;43m0\u001b[39;49m\n\u001b[1;32m      2\u001b[0m \u001b[38;5;28mprint\u001b[39m(a)\n\u001b[1;32m      3\u001b[0m b\u001b[38;5;241m=\u001b[39m\u001b[38;5;241m90\u001b[39m\u001b[38;5;241m*\u001b[39m\u001b[38;5;241m8\u001b[39m\n",
      "\u001b[0;31mZeroDivisionError\u001b[0m: integer division or modulo by zero"
     ]
    }
   ],
   "source": [
    "a=20%0\n",
    "print(a)        #It does not let next statement to get executed.\n",
    "b=90*8\n",
    "print(b)"
   ]
  },
  {
   "cell_type": "markdown",
   "id": "763f9983-23a3-4a98-8b61-96b10a68a02e",
   "metadata": {},
   "source": [
    "Ans.3\n",
    "Try and except block is used to handle exceptions."
   ]
  },
  {
   "cell_type": "code",
   "execution_count": 4,
   "id": "23463110-2e3d-42ff-8670-de7ef05b4769",
   "metadata": {},
   "outputs": [
    {
     "name": "stdout",
     "output_type": "stream",
     "text": [
      "[Errno 2] No such file or directory: 'test.txt'\n"
     ]
    }
   ],
   "source": [
    "try :\n",
    "    with open(\"test.txt\",\"r\") as fh:\n",
    "        fh.read(30)\n",
    "except FileNotFoundError as e:\n",
    "    print(e)"
   ]
  },
  {
   "cell_type": "markdown",
   "id": "c5380dbc-7f70-4bd9-a7ca-773182592a53",
   "metadata": {},
   "source": [
    "Ans.4\n",
    "Try and else"
   ]
  },
  {
   "cell_type": "code",
   "execution_count": 6,
   "id": "b82bdda4-a026-475e-bb33-0fce7b6a968a",
   "metadata": {},
   "outputs": [
    {
     "name": "stdout",
     "output_type": "stream",
     "text": [
      "168\n",
      "179\n"
     ]
    }
   ],
   "source": [
    "\n",
    "try :\n",
    "    a=78+90\n",
    "    print(a)\n",
    "except TypeError as e :\n",
    "    print(e)\n",
    "else:\n",
    "    c=89+90\n",
    "    print(c)"
   ]
  },
  {
   "cell_type": "code",
   "execution_count": 9,
   "id": "7f1d97c5-48b0-4fe9-9734-3410e29f3665",
   "metadata": {},
   "outputs": [
    {
     "name": "stdout",
     "output_type": "stream",
     "text": [
      "[Errno 2] No such file or directory: 'test.txt'\n",
      "179\n"
     ]
    }
   ],
   "source": [
    "try :\n",
    "    with open(\"test.txt\",\"r\") as fh:\n",
    "        fh.read(30)\n",
    "except FileNotFoundError as e:\n",
    "    print(e)\n",
    "finally:\n",
    "    c=89+90\n",
    "    print(c)"
   ]
  },
  {
   "cell_type": "code",
   "execution_count": 11,
   "id": "81e75a58-f2dc-4c0c-b034-35d62d84389b",
   "metadata": {},
   "outputs": [
    {
     "ename": "NameError",
     "evalue": "name 'def__init__' is not defined",
     "output_type": "error",
     "traceback": [
      "\u001b[0;31m---------------------------------------------------------------------------\u001b[0m",
      "\u001b[0;31mNameError\u001b[0m                                 Traceback (most recent call last)",
      "Cell \u001b[0;32mIn[11], line 1\u001b[0m\n\u001b[0;32m----> 1\u001b[0m \u001b[38;5;28;01mclass\u001b[39;00m \u001b[38;5;21;01mwork\u001b[39;00m(\u001b[38;5;167;01mException\u001b[39;00m):\n\u001b[1;32m      2\u001b[0m     def__init__(\u001b[38;5;28mself\u001b[39m,msg)\n\u001b[1;32m      3\u001b[0m     \u001b[38;5;28mself\u001b[39m\u001b[38;5;241m.\u001b[39mmsg\u001b[38;5;241m=\u001b[39mmsg\n",
      "Cell \u001b[0;32mIn[11], line 2\u001b[0m, in \u001b[0;36mwork\u001b[0;34m()\u001b[0m\n\u001b[1;32m      1\u001b[0m \u001b[38;5;28;01mclass\u001b[39;00m \u001b[38;5;21;01mwork\u001b[39;00m(\u001b[38;5;167;01mException\u001b[39;00m):\n\u001b[0;32m----> 2\u001b[0m     \u001b[43mdef__init__\u001b[49m(\u001b[38;5;28mself\u001b[39m,msg)\n\u001b[1;32m      3\u001b[0m     \u001b[38;5;28mself\u001b[39m\u001b[38;5;241m.\u001b[39mmsg\u001b[38;5;241m=\u001b[39mmsg\n",
      "\u001b[0;31mNameError\u001b[0m: name 'def__init__' is not defined"
     ]
    }
   ],
   "source": [
    "class work(Exception):\n",
    "    def__init__(self,msg)\n",
    "    self.msg=msg\n",
    "    \n",
    "def work(nw):\n",
    "    if nw==0:\n",
    "        raise work(\"0 is not a whole number\")\n",
    "    elif nw<0:\n",
    "        raise work(\"Negative number is not a whole number\")\n",
    "    else:\n",
    "        print(\"All ok\")\n",
    "        \n",
    "try:\n",
    "    nw=input(\"Enter a whole number\")\n",
    "    work(nw)\n",
    "except work as e :\n",
    "    print(e)"
   ]
  },
  {
   "cell_type": "markdown",
   "id": "7d6dbd4c-6941-49d6-a6db-a1180f3c9235",
   "metadata": {},
   "source": [
    "Custom exceptions are used so that user can handle exceptions according to their requirement."
   ]
  }
 ],
 "metadata": {
  "kernelspec": {
   "display_name": "Python 3 (ipykernel)",
   "language": "python",
   "name": "python3"
  },
  "language_info": {
   "codemirror_mode": {
    "name": "ipython",
    "version": 3
   },
   "file_extension": ".py",
   "mimetype": "text/x-python",
   "name": "python",
   "nbconvert_exporter": "python",
   "pygments_lexer": "ipython3",
   "version": "3.10.8"
  }
 },
 "nbformat": 4,
 "nbformat_minor": 5
}
