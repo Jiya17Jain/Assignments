{
 "cells": [
  {
   "cell_type": "code",
   "execution_count": 4,
   "id": "b5219b13-7448-4a25-982d-90adc13d6b3e",
   "metadata": {},
   "outputs": [],
   "source": [
    "a='jiya'  #string\n",
    "b=[67,89,78]   #list\n",
    "c=89.89     #float\n",
    "d=(78,65,67) #tuple\n",
    "\n"
   ]
  },
  {
   "cell_type": "code",
   "execution_count": 5,
   "id": "16afeae4-0cc9-4648-a36e-ddc85d577501",
   "metadata": {},
   "outputs": [
    {
     "data": {
      "text/plain": [
       "str"
      ]
     },
     "execution_count": 5,
     "metadata": {},
     "output_type": "execute_result"
    }
   ],
   "source": [
    "var=' '\n",
    "type(var)"
   ]
  },
  {
   "cell_type": "code",
   "execution_count": 6,
   "id": "25160045-32e6-4a46-9690-e741bbda6eae",
   "metadata": {},
   "outputs": [
    {
     "data": {
      "text/plain": [
       "str"
      ]
     },
     "execution_count": 6,
     "metadata": {},
     "output_type": "execute_result"
    }
   ],
   "source": [
    "var2='[DS,ML,Python]'\n",
    "type(var2)"
   ]
  },
  {
   "cell_type": "code",
   "execution_count": 7,
   "id": "d5f8daf1-85e7-465f-a04a-df245c46f780",
   "metadata": {},
   "outputs": [
    {
     "data": {
      "text/plain": [
       "list"
      ]
     },
     "execution_count": 7,
     "metadata": {},
     "output_type": "execute_result"
    }
   ],
   "source": [
    "var3=['ML','DL','Python']\n",
    "type(var3)"
   ]
  },
  {
   "cell_type": "code",
   "execution_count": 8,
   "id": "ecd5a478-fdfc-4b72-9d56-f041e1501158",
   "metadata": {},
   "outputs": [
    {
     "data": {
      "text/plain": [
       "int"
      ]
     },
     "execution_count": 8,
     "metadata": {},
     "output_type": "execute_result"
    }
   ],
   "source": [
    "var4=1\n",
    "type(var4)"
   ]
  },
  {
   "cell_type": "code",
   "execution_count": 9,
   "id": "e5450b95-0a7d-4d8e-b8b7-8c977c101600",
   "metadata": {},
   "outputs": [
    {
     "name": "stdout",
     "output_type": "stream",
     "text": [
      "2.0\n"
     ]
    }
   ],
   "source": [
    "a=6/3\n",
    "print(a)  # this operator gives the quotient"
   ]
  },
  {
   "cell_type": "code",
   "execution_count": 10,
   "id": "1e32fd93-950e-45c5-9430-a4e431ffec56",
   "metadata": {},
   "outputs": [
    {
     "name": "stdout",
     "output_type": "stream",
     "text": [
      "0\n"
     ]
    }
   ],
   "source": [
    "n=6%3\n",
    "print(n)  #this operator gives the remainder"
   ]
  },
  {
   "cell_type": "code",
   "execution_count": 11,
   "id": "24c1ecd4-e338-42da-a24d-45e327777bf2",
   "metadata": {},
   "outputs": [
    {
     "name": "stdout",
     "output_type": "stream",
     "text": [
      "2\n"
     ]
    }
   ],
   "source": [
    "j=6//3\n",
    "print(j) #this operator gives only the integer part of quotient\n"
   ]
  },
  {
   "cell_type": "code",
   "execution_count": 12,
   "id": "09802d2a-8d6b-472b-ba9a-6a4a82485925",
   "metadata": {},
   "outputs": [
    {
     "name": "stdout",
     "output_type": "stream",
     "text": [
      "216\n"
     ]
    }
   ],
   "source": [
    "k=6**3\n",
    "print(k) #this operator is used for powers"
   ]
  },
  {
   "cell_type": "code",
   "execution_count": 16,
   "id": "25607c2c-8dd5-4514-900b-c2147bc09954",
   "metadata": {},
   "outputs": [
    {
     "name": "stdout",
     "output_type": "stream",
     "text": [
      "89 <class 'int'>\n",
      "jiya <class 'str'>\n",
      "90.78 <class 'float'>\n",
      "[78, 90] <class 'list'>\n"
     ]
    }
   ],
   "source": [
    "l=[89,'jiya',90.78,[78,90]]\n",
    "for i in l:\n",
    "    print(i,type(i))"
   ]
  },
  {
   "cell_type": "code",
   "execution_count": 18,
   "id": "374fc781-564e-4564-b975-c4e749ae4bc4",
   "metadata": {},
   "outputs": [
    {
     "name": "stdout",
     "output_type": "stream",
     "text": [
      "33\n",
      "30\n",
      "12\n",
      "3\n",
      "6\n",
      "9\n",
      "15\n",
      "36\n",
      "66\n",
      "99\n",
      "93\n"
     ]
    }
   ],
   "source": [
    "l2=[67,89,33,30,12,3,6,9,15,95,34,36,66,99,93]\n",
    "for i in l2:\n",
    "    if i%3==0:\n",
    "        print(i)"
   ]
  },
  {
   "cell_type": "code",
   "execution_count": 19,
   "id": "97184581-2376-45b3-bb4e-52de113281c2",
   "metadata": {},
   "outputs": [
    {
     "name": "stdout",
     "output_type": "stream",
     "text": [
      "[89, 91, 76]\n"
     ]
    }
   ],
   "source": [
    "ls=[89,90,76]  # mutable data types are those whose values can be changed.\n",
    "ls[1]=91\n",
    "print(ls)"
   ]
  },
  {
   "cell_type": "code",
   "execution_count": 20,
   "id": "775874a8-46ba-4c65-b839-f538c74aedb9",
   "metadata": {},
   "outputs": [
    {
     "ename": "TypeError",
     "evalue": "'tuple' object does not support item assignment",
     "output_type": "error",
     "traceback": [
      "\u001b[0;31m---------------------------------------------------------------------------\u001b[0m",
      "\u001b[0;31mTypeError\u001b[0m                                 Traceback (most recent call last)",
      "Cell \u001b[0;32mIn[20], line 2\u001b[0m\n\u001b[1;32m      1\u001b[0m t\u001b[38;5;241m=\u001b[39m(\u001b[38;5;241m90\u001b[39m,\u001b[38;5;241m89\u001b[39m,\u001b[38;5;241m45\u001b[39m)\n\u001b[0;32m----> 2\u001b[0m \u001b[43mt\u001b[49m\u001b[43m[\u001b[49m\u001b[38;5;241;43m1\u001b[39;49m\u001b[43m]\u001b[49m\u001b[38;5;241m=\u001b[39m\u001b[38;5;241m67\u001b[39m\n\u001b[1;32m      3\u001b[0m \u001b[38;5;28mprint\u001b[39m(t)\n",
      "\u001b[0;31mTypeError\u001b[0m: 'tuple' object does not support item assignment"
     ]
    }
   ],
   "source": [
    "t=(90,89,45)  #immutable data types are those values cannot be changed.\n",
    "t[1]=67\n",
    "print(t)"
   ]
  },
  {
   "cell_type": "code",
   "execution_count": null,
   "id": "cec35a38-a8d9-478e-810a-3e4782cccbd9",
   "metadata": {},
   "outputs": [],
   "source": [
    "a=60\n",
    "b=2\n",
    "if a%b==0:\n",
    "     print('a is divisible by b by',a//b ,'times')\n",
    "else:\n",
    "     print('a is not divisible by b')  "
   ]
  },
  {
   "cell_type": "code",
   "execution_count": null,
   "id": "9f83aaff-af4e-4a7c-bbff-b7461a2370a0",
   "metadata": {},
   "outputs": [],
   "source": []
  }
 ],
 "metadata": {
  "kernelspec": {
   "display_name": "Python 3 (ipykernel)",
   "language": "python",
   "name": "python3"
  },
  "language_info": {
   "codemirror_mode": {
    "name": "ipython",
    "version": 3
   },
   "file_extension": ".py",
   "mimetype": "text/x-python",
   "name": "python",
   "nbconvert_exporter": "python",
   "pygments_lexer": "ipython3",
   "version": "3.10.8"
  }
 },
 "nbformat": 4,
 "nbformat_minor": 5
}
