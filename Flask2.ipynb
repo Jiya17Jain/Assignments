{
 "cells": [
  {
   "cell_type": "markdown",
   "id": "445ed43d-aa96-4436-953f-6840ce2db3f9",
   "metadata": {},
   "source": [
    "Ans1.\n",
    "GET method is used to take input from user through URL.\n",
    "POST method is used to take input from user through body ."
   ]
  },
  {
   "cell_type": "markdown",
   "id": "ab2bcaea-dd88-42a5-97af-9801463bd468",
   "metadata": {},
   "source": [
    "Ans2.Request is used to take input of variable from user."
   ]
  },
  {
   "cell_type": "markdown",
   "id": "c873943b-fe93-42bb-956b-ce1e93425fea",
   "metadata": {},
   "source": [
    "Ans3.\n",
    "A redirect is used in the Flask class to send the user to a particular URL with the status code. "
   ]
  },
  {
   "cell_type": "markdown",
   "id": "750a232c-8c99-4b34-8c0b-7b1da371ef8e",
   "metadata": {},
   "source": [
    "Ans4 .\n",
    "Templates are files that contain static data as well as placeholders for dynamic data. render_template is used to generate output from a template file based."
   ]
  },
  {
   "cell_type": "code",
   "execution_count": null,
   "id": "f7992442-49f4-4dc9-88ef-6ff2dda041fd",
   "metadata": {},
   "outputs": [],
   "source": []
  }
 ],
 "metadata": {
  "kernelspec": {
   "display_name": "Python 3 (ipykernel)",
   "language": "python",
   "name": "python3"
  },
  "language_info": {
   "codemirror_mode": {
    "name": "ipython",
    "version": 3
   },
   "file_extension": ".py",
   "mimetype": "text/x-python",
   "name": "python",
   "nbconvert_exporter": "python",
   "pygments_lexer": "ipython3",
   "version": "3.10.8"
  }
 },
 "nbformat": 4,
 "nbformat_minor": 5
}
