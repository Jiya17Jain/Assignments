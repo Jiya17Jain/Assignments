{
 "cells": [
  {
   "cell_type": "code",
   "execution_count": 7,
   "id": "a597ddb9-ebb3-429d-bee0-043d42296c02",
   "metadata": {},
   "outputs": [],
   "source": [
    "class vehicle:\n",
    "    def __init__(self , name_of_vehicle , average_of_vehicle , maximum_speed) :\n",
    "        \n",
    "        self.name_of_vehicle=name\n",
    "        self.average_of_vehicle=speed\n",
    "        self.maximum_speed=maximum \n",
    "        \n",
    "    def v(self):\n",
    "        return(self. name_of_vehicle,self.average_of_vehicle,self.maximum_speed)\n",
    "    \n",
    "    \n"
   ]
  },
  {
   "cell_type": "code",
   "execution_count": null,
   "id": "9f9da25f-af21-469d-aeea-d8ac916f6c10",
   "metadata": {},
   "outputs": [],
   "source": [
    "class child(vehicle):\n",
    "    pass"
   ]
  },
  {
   "cell_type": "markdown",
   "id": "663aa4a4-c021-4972-b020-7564a5607ab3",
   "metadata": {},
   "source": [
    "Multiple inheritance i sinheriting properties from more than one class."
   ]
  },
  {
   "cell_type": "markdown",
   "id": "542ffe53-dca7-451f-b2f4-47843b1db64a",
   "metadata": {},
   "source": [
    "Getter and setter methods are used to give privilige to use to either get or set some kind of data acoordind to their own use."
   ]
  }
 ],
 "metadata": {
  "kernelspec": {
   "display_name": "Python 3 (ipykernel)",
   "language": "python",
   "name": "python3"
  },
  "language_info": {
   "codemirror_mode": {
    "name": "ipython",
    "version": 3
   },
   "file_extension": ".py",
   "mimetype": "text/x-python",
   "name": "python",
   "nbconvert_exporter": "python",
   "pygments_lexer": "ipython3",
   "version": "3.10.8"
  }
 },
 "nbformat": 4,
 "nbformat_minor": 5
}
